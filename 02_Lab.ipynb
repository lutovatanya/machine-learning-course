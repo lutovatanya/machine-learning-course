{
  "nbformat": 4,
  "nbformat_minor": 0,
  "metadata": {
    "colab": {
      "name": "02_Lab.ipynb",
      "provenance": [],
      "collapsed_sections": [],
      "authorship_tag": "ABX9TyOOB/ORRUME4ezEExdAvsSM"
    },
    "kernelspec": {
      "name": "python3",
      "display_name": "Python 3"
    },
    "language_info": {
      "name": "python"
    }
  },
  "cells": [
    {
      "cell_type": "code",
      "execution_count": 1,
      "metadata": {
        "id": "9Ze6o8tS7QzP"
      },
      "outputs": [],
      "source": [
        "import numpy as np\n",
        "import matplotlib.pyplot as plt\n",
        "import pandas as pd\n",
        "import seaborn as sns\n",
        "import sklearn\n",
        "%matplotlib inline"
      ]
    },
    {
      "cell_type": "markdown",
      "source": [
        " **Информация о датасете**"
      ],
      "metadata": {
        "id": "hro_wJEo7t6A"
      }
    },
    {
      "cell_type": "markdown",
      "source": [
        "Датасет содержит информацию об ожидаемой продолжительности жизни и факторах здоровья населения 193-х стран за 2000-2015 годы. Набор данных содержит около 22 признаков, которые можно разделить на категории: факторы, связанные с иммунизацией, факторы смертности, экономические факторы и социальные факторы."
      ],
      "metadata": {
        "id": "68HLq_EE71ZJ"
      }
    },
    {
      "cell_type": "markdown",
      "source": [
        "# **Загрузка и чтение данных**"
      ],
      "metadata": {
        "id": "geCpR_dI77FG"
      }
    },
    {
      "cell_type": "code",
      "source": [
        "url = \"https://raw.githubusercontent.com/lutovatanya/machine-learning-course/025d68b79d4fba538d9a04861f199ed40c13a180/Life_Expectancy_Data.csv\"\n",
        "data_raw = pd.read_csv(url, sep=',', engine='python')\n",
        "data_raw.shape"
      ],
      "metadata": {
        "colab": {
          "base_uri": "https://localhost:8080/"
        },
        "id": "-WmlNgN274dG",
        "outputId": "1c28d057-dfa7-45d4-814e-bae5ecc9f9f6"
      },
      "execution_count": 2,
      "outputs": [
        {
          "output_type": "execute_result",
          "data": {
            "text/plain": [
              "(2938, 22)"
            ]
          },
          "metadata": {},
          "execution_count": 2
        }
      ]
    },
    {
      "cell_type": "code",
      "source": [
        "data_raw.head()"
      ],
      "metadata": {
        "colab": {
          "base_uri": "https://localhost:8080/",
          "height": 285
        },
        "id": "GXj18zK_8EFb",
        "outputId": "2a77e857-3fcc-427c-d424-39ae44cb3917"
      },
      "execution_count": 3,
      "outputs": [
        {
          "output_type": "execute_result",
          "data": {
            "text/html": [
              "\n",
              "  <div id=\"df-987eef3a-2abd-4846-be48-054b83f67c65\">\n",
              "    <div class=\"colab-df-container\">\n",
              "      <div>\n",
              "<style scoped>\n",
              "    .dataframe tbody tr th:only-of-type {\n",
              "        vertical-align: middle;\n",
              "    }\n",
              "\n",
              "    .dataframe tbody tr th {\n",
              "        vertical-align: top;\n",
              "    }\n",
              "\n",
              "    .dataframe thead th {\n",
              "        text-align: right;\n",
              "    }\n",
              "</style>\n",
              "<table border=\"1\" class=\"dataframe\">\n",
              "  <thead>\n",
              "    <tr style=\"text-align: right;\">\n",
              "      <th></th>\n",
              "      <th>Country</th>\n",
              "      <th>Year</th>\n",
              "      <th>Status</th>\n",
              "      <th>Life expectancy</th>\n",
              "      <th>Adult Mortality</th>\n",
              "      <th>infant deaths</th>\n",
              "      <th>Alcohol</th>\n",
              "      <th>percentage expenditure</th>\n",
              "      <th>Hepatitis B</th>\n",
              "      <th>Measles</th>\n",
              "      <th>BMI</th>\n",
              "      <th>under-five deaths</th>\n",
              "      <th>Polio</th>\n",
              "      <th>Total expenditure</th>\n",
              "      <th>Diphtheria</th>\n",
              "      <th>HIV/AIDS</th>\n",
              "      <th>GDP</th>\n",
              "      <th>Population</th>\n",
              "      <th>thinness  1-19 years</th>\n",
              "      <th>thinness 5-9 years</th>\n",
              "      <th>Income composition of resources</th>\n",
              "      <th>Schooling</th>\n",
              "    </tr>\n",
              "  </thead>\n",
              "  <tbody>\n",
              "    <tr>\n",
              "      <th>0</th>\n",
              "      <td>Afghanistan</td>\n",
              "      <td>2015</td>\n",
              "      <td>Developing</td>\n",
              "      <td>65.0</td>\n",
              "      <td>263.0</td>\n",
              "      <td>62</td>\n",
              "      <td>0.01</td>\n",
              "      <td>71.279624</td>\n",
              "      <td>65.0</td>\n",
              "      <td>1154</td>\n",
              "      <td>19.1</td>\n",
              "      <td>83</td>\n",
              "      <td>6.0</td>\n",
              "      <td>8.16</td>\n",
              "      <td>65.0</td>\n",
              "      <td>0.1</td>\n",
              "      <td>584.259210</td>\n",
              "      <td>33736494.0</td>\n",
              "      <td>17.2</td>\n",
              "      <td>17.3</td>\n",
              "      <td>0.479</td>\n",
              "      <td>10.1</td>\n",
              "    </tr>\n",
              "    <tr>\n",
              "      <th>1</th>\n",
              "      <td>Afghanistan</td>\n",
              "      <td>2014</td>\n",
              "      <td>Developing</td>\n",
              "      <td>59.9</td>\n",
              "      <td>271.0</td>\n",
              "      <td>64</td>\n",
              "      <td>0.01</td>\n",
              "      <td>73.523582</td>\n",
              "      <td>62.0</td>\n",
              "      <td>492</td>\n",
              "      <td>18.6</td>\n",
              "      <td>86</td>\n",
              "      <td>58.0</td>\n",
              "      <td>8.18</td>\n",
              "      <td>62.0</td>\n",
              "      <td>0.1</td>\n",
              "      <td>612.696514</td>\n",
              "      <td>327582.0</td>\n",
              "      <td>17.5</td>\n",
              "      <td>17.5</td>\n",
              "      <td>0.476</td>\n",
              "      <td>10.0</td>\n",
              "    </tr>\n",
              "    <tr>\n",
              "      <th>2</th>\n",
              "      <td>Afghanistan</td>\n",
              "      <td>2013</td>\n",
              "      <td>Developing</td>\n",
              "      <td>59.9</td>\n",
              "      <td>268.0</td>\n",
              "      <td>66</td>\n",
              "      <td>0.01</td>\n",
              "      <td>73.219243</td>\n",
              "      <td>64.0</td>\n",
              "      <td>430</td>\n",
              "      <td>18.1</td>\n",
              "      <td>89</td>\n",
              "      <td>62.0</td>\n",
              "      <td>8.13</td>\n",
              "      <td>64.0</td>\n",
              "      <td>0.1</td>\n",
              "      <td>631.744976</td>\n",
              "      <td>31731688.0</td>\n",
              "      <td>17.7</td>\n",
              "      <td>17.7</td>\n",
              "      <td>0.470</td>\n",
              "      <td>9.9</td>\n",
              "    </tr>\n",
              "    <tr>\n",
              "      <th>3</th>\n",
              "      <td>Afghanistan</td>\n",
              "      <td>2012</td>\n",
              "      <td>Developing</td>\n",
              "      <td>59.5</td>\n",
              "      <td>272.0</td>\n",
              "      <td>69</td>\n",
              "      <td>0.01</td>\n",
              "      <td>78.184215</td>\n",
              "      <td>67.0</td>\n",
              "      <td>2787</td>\n",
              "      <td>17.6</td>\n",
              "      <td>93</td>\n",
              "      <td>67.0</td>\n",
              "      <td>8.52</td>\n",
              "      <td>67.0</td>\n",
              "      <td>0.1</td>\n",
              "      <td>669.959000</td>\n",
              "      <td>3696958.0</td>\n",
              "      <td>17.9</td>\n",
              "      <td>18.0</td>\n",
              "      <td>0.463</td>\n",
              "      <td>9.8</td>\n",
              "    </tr>\n",
              "    <tr>\n",
              "      <th>4</th>\n",
              "      <td>Afghanistan</td>\n",
              "      <td>2011</td>\n",
              "      <td>Developing</td>\n",
              "      <td>59.2</td>\n",
              "      <td>275.0</td>\n",
              "      <td>71</td>\n",
              "      <td>0.01</td>\n",
              "      <td>7.097109</td>\n",
              "      <td>68.0</td>\n",
              "      <td>3013</td>\n",
              "      <td>17.2</td>\n",
              "      <td>97</td>\n",
              "      <td>68.0</td>\n",
              "      <td>7.87</td>\n",
              "      <td>68.0</td>\n",
              "      <td>0.1</td>\n",
              "      <td>63.537231</td>\n",
              "      <td>2978599.0</td>\n",
              "      <td>18.2</td>\n",
              "      <td>18.2</td>\n",
              "      <td>0.454</td>\n",
              "      <td>9.5</td>\n",
              "    </tr>\n",
              "  </tbody>\n",
              "</table>\n",
              "</div>\n",
              "      <button class=\"colab-df-convert\" onclick=\"convertToInteractive('df-987eef3a-2abd-4846-be48-054b83f67c65')\"\n",
              "              title=\"Convert this dataframe to an interactive table.\"\n",
              "              style=\"display:none;\">\n",
              "        \n",
              "  <svg xmlns=\"http://www.w3.org/2000/svg\" height=\"24px\"viewBox=\"0 0 24 24\"\n",
              "       width=\"24px\">\n",
              "    <path d=\"M0 0h24v24H0V0z\" fill=\"none\"/>\n",
              "    <path d=\"M18.56 5.44l.94 2.06.94-2.06 2.06-.94-2.06-.94-.94-2.06-.94 2.06-2.06.94zm-11 1L8.5 8.5l.94-2.06 2.06-.94-2.06-.94L8.5 2.5l-.94 2.06-2.06.94zm10 10l.94 2.06.94-2.06 2.06-.94-2.06-.94-.94-2.06-.94 2.06-2.06.94z\"/><path d=\"M17.41 7.96l-1.37-1.37c-.4-.4-.92-.59-1.43-.59-.52 0-1.04.2-1.43.59L10.3 9.45l-7.72 7.72c-.78.78-.78 2.05 0 2.83L4 21.41c.39.39.9.59 1.41.59.51 0 1.02-.2 1.41-.59l7.78-7.78 2.81-2.81c.8-.78.8-2.07 0-2.86zM5.41 20L4 18.59l7.72-7.72 1.47 1.35L5.41 20z\"/>\n",
              "  </svg>\n",
              "      </button>\n",
              "      \n",
              "  <style>\n",
              "    .colab-df-container {\n",
              "      display:flex;\n",
              "      flex-wrap:wrap;\n",
              "      gap: 12px;\n",
              "    }\n",
              "\n",
              "    .colab-df-convert {\n",
              "      background-color: #E8F0FE;\n",
              "      border: none;\n",
              "      border-radius: 50%;\n",
              "      cursor: pointer;\n",
              "      display: none;\n",
              "      fill: #1967D2;\n",
              "      height: 32px;\n",
              "      padding: 0 0 0 0;\n",
              "      width: 32px;\n",
              "    }\n",
              "\n",
              "    .colab-df-convert:hover {\n",
              "      background-color: #E2EBFA;\n",
              "      box-shadow: 0px 1px 2px rgba(60, 64, 67, 0.3), 0px 1px 3px 1px rgba(60, 64, 67, 0.15);\n",
              "      fill: #174EA6;\n",
              "    }\n",
              "\n",
              "    [theme=dark] .colab-df-convert {\n",
              "      background-color: #3B4455;\n",
              "      fill: #D2E3FC;\n",
              "    }\n",
              "\n",
              "    [theme=dark] .colab-df-convert:hover {\n",
              "      background-color: #434B5C;\n",
              "      box-shadow: 0px 1px 3px 1px rgba(0, 0, 0, 0.15);\n",
              "      filter: drop-shadow(0px 1px 2px rgba(0, 0, 0, 0.3));\n",
              "      fill: #FFFFFF;\n",
              "    }\n",
              "  </style>\n",
              "\n",
              "      <script>\n",
              "        const buttonEl =\n",
              "          document.querySelector('#df-987eef3a-2abd-4846-be48-054b83f67c65 button.colab-df-convert');\n",
              "        buttonEl.style.display =\n",
              "          google.colab.kernel.accessAllowed ? 'block' : 'none';\n",
              "\n",
              "        async function convertToInteractive(key) {\n",
              "          const element = document.querySelector('#df-987eef3a-2abd-4846-be48-054b83f67c65');\n",
              "          const dataTable =\n",
              "            await google.colab.kernel.invokeFunction('convertToInteractive',\n",
              "                                                     [key], {});\n",
              "          if (!dataTable) return;\n",
              "\n",
              "          const docLinkHtml = 'Like what you see? Visit the ' +\n",
              "            '<a target=\"_blank\" href=https://colab.research.google.com/notebooks/data_table.ipynb>data table notebook</a>'\n",
              "            + ' to learn more about interactive tables.';\n",
              "          element.innerHTML = '';\n",
              "          dataTable['output_type'] = 'display_data';\n",
              "          await google.colab.output.renderOutput(dataTable, element);\n",
              "          const docLink = document.createElement('div');\n",
              "          docLink.innerHTML = docLinkHtml;\n",
              "          element.appendChild(docLink);\n",
              "        }\n",
              "      </script>\n",
              "    </div>\n",
              "  </div>\n",
              "  "
            ],
            "text/plain": [
              "       Country  Year  ... Income composition of resources  Schooling\n",
              "0  Afghanistan  2015  ...                           0.479       10.1\n",
              "1  Afghanistan  2014  ...                           0.476       10.0\n",
              "2  Afghanistan  2013  ...                           0.470        9.9\n",
              "3  Afghanistan  2012  ...                           0.463        9.8\n",
              "4  Afghanistan  2011  ...                           0.454        9.5\n",
              "\n",
              "[5 rows x 22 columns]"
            ]
          },
          "metadata": {},
          "execution_count": 3
        }
      ]
    },
    {
      "cell_type": "markdown",
      "source": [
        "Воспользуемся результатами первой лабораторной работы и проделаем аналогичные операции с данными"
      ],
      "metadata": {
        "id": "6yBgAWiBItyX"
      }
    },
    {
      "cell_type": "code",
      "source": [
        "data_raw.rename(columns={'Life expectancy ': 'Life expectancy', 'Measles ': 'Measles' , ' BMI ': 'BMI', 'under-five deaths ': 'Under-five deaths', 'Diphtheria ': 'Diphtheria', ' HIV/AIDS': 'HIV/AIDS', ' thinness  1-19 years': 'Thinness 1-19 years', ' thinness 5-9 years': 'Thinness 5-9 years' }, inplace=True)\n",
        "data_raw.columns\n",
        "data_raw.info()"
      ],
      "metadata": {
        "colab": {
          "base_uri": "https://localhost:8080/"
        },
        "id": "ZArZmFn68KT_",
        "outputId": "cd2baf65-a90a-430d-f9a3-a8d86b515f0d"
      },
      "execution_count": 4,
      "outputs": [
        {
          "output_type": "stream",
          "name": "stdout",
          "text": [
            "<class 'pandas.core.frame.DataFrame'>\n",
            "RangeIndex: 2938 entries, 0 to 2937\n",
            "Data columns (total 22 columns):\n",
            " #   Column                           Non-Null Count  Dtype  \n",
            "---  ------                           --------------  -----  \n",
            " 0   Country                          2938 non-null   object \n",
            " 1   Year                             2938 non-null   int64  \n",
            " 2   Status                           2938 non-null   object \n",
            " 3   Life expectancy                  2928 non-null   float64\n",
            " 4   Adult Mortality                  2928 non-null   float64\n",
            " 5   infant deaths                    2938 non-null   int64  \n",
            " 6   Alcohol                          2744 non-null   float64\n",
            " 7   percentage expenditure           2938 non-null   float64\n",
            " 8   Hepatitis B                      2385 non-null   float64\n",
            " 9   Measles                          2938 non-null   int64  \n",
            " 10  BMI                              2904 non-null   float64\n",
            " 11  Under-five deaths                2938 non-null   int64  \n",
            " 12  Polio                            2919 non-null   float64\n",
            " 13  Total expenditure                2712 non-null   float64\n",
            " 14  Diphtheria                       2919 non-null   float64\n",
            " 15  HIV/AIDS                         2938 non-null   float64\n",
            " 16  GDP                              2490 non-null   float64\n",
            " 17  Population                       2286 non-null   float64\n",
            " 18  Thinness 1-19 years              2904 non-null   float64\n",
            " 19  Thinness 5-9 years               2904 non-null   float64\n",
            " 20  Income composition of resources  2771 non-null   float64\n",
            " 21  Schooling                        2775 non-null   float64\n",
            "dtypes: float64(16), int64(4), object(2)\n",
            "memory usage: 505.1+ KB\n"
          ]
        }
      ]
    },
    {
      "cell_type": "markdown",
      "source": [
        "**Обработка категориальных признаков**"
      ],
      "metadata": {
        "id": "uOZYvwmJ8Ro-"
      }
    },
    {
      "cell_type": "code",
      "source": [
        "data_raw['Country'] = data_raw['Country'].astype('category')\n",
        "data_raw['Status'] = data_raw['Status'].astype('category')"
      ],
      "metadata": {
        "id": "X7vCiFC38S6L"
      },
      "execution_count": 5,
      "outputs": []
    },
    {
      "cell_type": "markdown",
      "source": [
        "**Обработка пропущенных значений**"
      ],
      "metadata": {
        "id": "34ULKHbTIaU0"
      }
    },
    {
      "cell_type": "code",
      "source": [
        "data_raw.isna().sum()"
      ],
      "metadata": {
        "colab": {
          "base_uri": "https://localhost:8080/"
        },
        "id": "gNa2lg4d8blF",
        "outputId": "d3a6cd8d-6022-4e7b-f2ed-d275148ed35f"
      },
      "execution_count": 6,
      "outputs": [
        {
          "output_type": "execute_result",
          "data": {
            "text/plain": [
              "Country                              0\n",
              "Year                                 0\n",
              "Status                               0\n",
              "Life expectancy                     10\n",
              "Adult Mortality                     10\n",
              "infant deaths                        0\n",
              "Alcohol                            194\n",
              "percentage expenditure               0\n",
              "Hepatitis B                        553\n",
              "Measles                              0\n",
              "BMI                                 34\n",
              "Under-five deaths                    0\n",
              "Polio                               19\n",
              "Total expenditure                  226\n",
              "Diphtheria                          19\n",
              "HIV/AIDS                             0\n",
              "GDP                                448\n",
              "Population                         652\n",
              "Thinness 1-19 years                 34\n",
              "Thinness 5-9 years                  34\n",
              "Income composition of resources    167\n",
              "Schooling                          163\n",
              "dtype: int64"
            ]
          },
          "metadata": {},
          "execution_count": 6
        }
      ]
    },
    {
      "cell_type": "markdown",
      "source": [
        "Заполним пропущенные значения медианой"
      ],
      "metadata": {
        "id": "7vdS_fDJI3QP"
      }
    },
    {
      "cell_type": "code",
      "source": [
        "data_raw[\"Population\"].fillna(data_raw[\"Population\"].median(axis = 0), axis=0 , inplace=True)\n",
        "data_raw[\"Hepatitis B\"].fillna(data_raw[\"Hepatitis B\"].median(axis = 0), axis=0 , inplace=True)\n",
        "data_raw[\"GDP\"].fillna(data_raw[\"GDP\"].median(axis = 0), axis=0 , inplace=True)\n",
        "data_raw[\"Total expenditure\"].fillna(data_raw[\"Total expenditure\"].median(axis = 0), axis=0 , inplace=True)\n",
        "data_raw[\"Alcohol\"].fillna(data_raw[\"Alcohol\"].median(axis = 0), axis=0 , inplace=True)\n",
        "data_raw[\"Income composition of resources\"].fillna(data_raw[\"Income composition of resources\"].median(axis = 0), axis=0 , inplace=True)\n",
        "data_raw[\"Schooling\"].fillna(data_raw[\"Schooling\"].median(axis = 0), axis=0 , inplace=True)\n",
        "data_raw.isna().sum()"
      ],
      "metadata": {
        "colab": {
          "base_uri": "https://localhost:8080/"
        },
        "id": "xE8jOTxT8dMo",
        "outputId": "d728793a-64f2-4c5b-e63e-5461886d16f7"
      },
      "execution_count": 7,
      "outputs": [
        {
          "output_type": "execute_result",
          "data": {
            "text/plain": [
              "Country                             0\n",
              "Year                                0\n",
              "Status                              0\n",
              "Life expectancy                    10\n",
              "Adult Mortality                    10\n",
              "infant deaths                       0\n",
              "Alcohol                             0\n",
              "percentage expenditure              0\n",
              "Hepatitis B                         0\n",
              "Measles                             0\n",
              "BMI                                34\n",
              "Under-five deaths                   0\n",
              "Polio                              19\n",
              "Total expenditure                   0\n",
              "Diphtheria                         19\n",
              "HIV/AIDS                            0\n",
              "GDP                                 0\n",
              "Population                          0\n",
              "Thinness 1-19 years                34\n",
              "Thinness 5-9 years                 34\n",
              "Income composition of resources     0\n",
              "Schooling                           0\n",
              "dtype: int64"
            ]
          },
          "metadata": {},
          "execution_count": 7
        }
      ]
    },
    {
      "cell_type": "markdown",
      "source": [
        "Остальные признаки имеют слишком малое кол-во пропущенных значений, поэтому можем просто удалить строчки с недостающими значениями"
      ],
      "metadata": {
        "id": "8Ojx3H1FI8S2"
      }
    },
    {
      "cell_type": "code",
      "source": [
        "data_raw.dropna(axis=0, how='all', subset=['Life expectancy'], inplace=True)\n",
        "data_raw.dropna(axis=0, how='all', subset=['Adult Mortality'], inplace=True)\n",
        "data_raw.dropna(axis=0, how='all', subset=['BMI'], inplace=True)\n",
        "data_raw.dropna(axis=0, how='all', subset=['Polio'], inplace=True)\n",
        "data_raw.dropna(axis=0, how='all', subset=['Diphtheria'], inplace=True)\n",
        "data_raw.dropna(axis=0, how='all', subset=['Thinness 1-19 years'], inplace=True)\n",
        "data_raw.dropna(axis=0, how='all', subset=['Thinness 5-9 years'], inplace=True)\n",
        "print(data_raw.shape)\n",
        "data_raw.isna().sum()"
      ],
      "metadata": {
        "colab": {
          "base_uri": "https://localhost:8080/"
        },
        "id": "jdtWGGUO8gMJ",
        "outputId": "6bc51b02-7ca5-4931-887c-3ef3cef883dd"
      },
      "execution_count": 8,
      "outputs": [
        {
          "output_type": "stream",
          "name": "stdout",
          "text": [
            "(2888, 22)\n"
          ]
        },
        {
          "output_type": "execute_result",
          "data": {
            "text/plain": [
              "Country                            0\n",
              "Year                               0\n",
              "Status                             0\n",
              "Life expectancy                    0\n",
              "Adult Mortality                    0\n",
              "infant deaths                      0\n",
              "Alcohol                            0\n",
              "percentage expenditure             0\n",
              "Hepatitis B                        0\n",
              "Measles                            0\n",
              "BMI                                0\n",
              "Under-five deaths                  0\n",
              "Polio                              0\n",
              "Total expenditure                  0\n",
              "Diphtheria                         0\n",
              "HIV/AIDS                           0\n",
              "GDP                                0\n",
              "Population                         0\n",
              "Thinness 1-19 years                0\n",
              "Thinness 5-9 years                 0\n",
              "Income composition of resources    0\n",
              "Schooling                          0\n",
              "dtype: int64"
            ]
          },
          "metadata": {},
          "execution_count": 8
        }
      ]
    },
    {
      "cell_type": "markdown",
      "source": [
        "**Оработка категориальных значений**"
      ],
      "metadata": {
        "id": "PNs1FqRPJFrF"
      }
    },
    {
      "cell_type": "code",
      "source": [
        "data_raw = pd.get_dummies(data_raw)\n",
        "print(data_raw.shape)\n",
        "data_raw.head()"
      ],
      "metadata": {
        "colab": {
          "base_uri": "https://localhost:8080/",
          "height": 386
        },
        "id": "AaohX0AO8ppF",
        "outputId": "69ad80ee-664a-4501-9e16-1e9b86f1a941"
      },
      "execution_count": 9,
      "outputs": [
        {
          "output_type": "stream",
          "name": "stdout",
          "text": [
            "(2888, 215)\n"
          ]
        },
        {
          "output_type": "execute_result",
          "data": {
            "text/html": [
              "\n",
              "  <div id=\"df-95610cd0-a62e-40c0-bcbe-02bdc2bbaaa0\">\n",
              "    <div class=\"colab-df-container\">\n",
              "      <div>\n",
              "<style scoped>\n",
              "    .dataframe tbody tr th:only-of-type {\n",
              "        vertical-align: middle;\n",
              "    }\n",
              "\n",
              "    .dataframe tbody tr th {\n",
              "        vertical-align: top;\n",
              "    }\n",
              "\n",
              "    .dataframe thead th {\n",
              "        text-align: right;\n",
              "    }\n",
              "</style>\n",
              "<table border=\"1\" class=\"dataframe\">\n",
              "  <thead>\n",
              "    <tr style=\"text-align: right;\">\n",
              "      <th></th>\n",
              "      <th>Year</th>\n",
              "      <th>Life expectancy</th>\n",
              "      <th>Adult Mortality</th>\n",
              "      <th>infant deaths</th>\n",
              "      <th>Alcohol</th>\n",
              "      <th>percentage expenditure</th>\n",
              "      <th>Hepatitis B</th>\n",
              "      <th>Measles</th>\n",
              "      <th>BMI</th>\n",
              "      <th>Under-five deaths</th>\n",
              "      <th>Polio</th>\n",
              "      <th>Total expenditure</th>\n",
              "      <th>Diphtheria</th>\n",
              "      <th>HIV/AIDS</th>\n",
              "      <th>GDP</th>\n",
              "      <th>Population</th>\n",
              "      <th>Thinness 1-19 years</th>\n",
              "      <th>Thinness 5-9 years</th>\n",
              "      <th>Income composition of resources</th>\n",
              "      <th>Schooling</th>\n",
              "      <th>Country_Afghanistan</th>\n",
              "      <th>Country_Albania</th>\n",
              "      <th>Country_Algeria</th>\n",
              "      <th>Country_Angola</th>\n",
              "      <th>Country_Antigua and Barbuda</th>\n",
              "      <th>Country_Argentina</th>\n",
              "      <th>Country_Armenia</th>\n",
              "      <th>Country_Australia</th>\n",
              "      <th>Country_Austria</th>\n",
              "      <th>Country_Azerbaijan</th>\n",
              "      <th>Country_Bahamas</th>\n",
              "      <th>Country_Bahrain</th>\n",
              "      <th>Country_Bangladesh</th>\n",
              "      <th>Country_Barbados</th>\n",
              "      <th>Country_Belarus</th>\n",
              "      <th>Country_Belgium</th>\n",
              "      <th>Country_Belize</th>\n",
              "      <th>Country_Benin</th>\n",
              "      <th>Country_Bhutan</th>\n",
              "      <th>Country_Bolivia (Plurinational State of)</th>\n",
              "      <th>...</th>\n",
              "      <th>Country_Slovenia</th>\n",
              "      <th>Country_Solomon Islands</th>\n",
              "      <th>Country_Somalia</th>\n",
              "      <th>Country_South Africa</th>\n",
              "      <th>Country_South Sudan</th>\n",
              "      <th>Country_Spain</th>\n",
              "      <th>Country_Sri Lanka</th>\n",
              "      <th>Country_Sudan</th>\n",
              "      <th>Country_Suriname</th>\n",
              "      <th>Country_Swaziland</th>\n",
              "      <th>Country_Sweden</th>\n",
              "      <th>Country_Switzerland</th>\n",
              "      <th>Country_Syrian Arab Republic</th>\n",
              "      <th>Country_Tajikistan</th>\n",
              "      <th>Country_Thailand</th>\n",
              "      <th>Country_The former Yugoslav republic of Macedonia</th>\n",
              "      <th>Country_Timor-Leste</th>\n",
              "      <th>Country_Togo</th>\n",
              "      <th>Country_Tonga</th>\n",
              "      <th>Country_Trinidad and Tobago</th>\n",
              "      <th>Country_Tunisia</th>\n",
              "      <th>Country_Turkey</th>\n",
              "      <th>Country_Turkmenistan</th>\n",
              "      <th>Country_Tuvalu</th>\n",
              "      <th>Country_Uganda</th>\n",
              "      <th>Country_Ukraine</th>\n",
              "      <th>Country_United Arab Emirates</th>\n",
              "      <th>Country_United Kingdom of Great Britain and Northern Ireland</th>\n",
              "      <th>Country_United Republic of Tanzania</th>\n",
              "      <th>Country_United States of America</th>\n",
              "      <th>Country_Uruguay</th>\n",
              "      <th>Country_Uzbekistan</th>\n",
              "      <th>Country_Vanuatu</th>\n",
              "      <th>Country_Venezuela (Bolivarian Republic of)</th>\n",
              "      <th>Country_Viet Nam</th>\n",
              "      <th>Country_Yemen</th>\n",
              "      <th>Country_Zambia</th>\n",
              "      <th>Country_Zimbabwe</th>\n",
              "      <th>Status_Developed</th>\n",
              "      <th>Status_Developing</th>\n",
              "    </tr>\n",
              "  </thead>\n",
              "  <tbody>\n",
              "    <tr>\n",
              "      <th>0</th>\n",
              "      <td>2015</td>\n",
              "      <td>65.0</td>\n",
              "      <td>263.0</td>\n",
              "      <td>62</td>\n",
              "      <td>0.01</td>\n",
              "      <td>71.279624</td>\n",
              "      <td>65.0</td>\n",
              "      <td>1154</td>\n",
              "      <td>19.1</td>\n",
              "      <td>83</td>\n",
              "      <td>6.0</td>\n",
              "      <td>8.16</td>\n",
              "      <td>65.0</td>\n",
              "      <td>0.1</td>\n",
              "      <td>584.259210</td>\n",
              "      <td>33736494.0</td>\n",
              "      <td>17.2</td>\n",
              "      <td>17.3</td>\n",
              "      <td>0.479</td>\n",
              "      <td>10.1</td>\n",
              "      <td>1</td>\n",
              "      <td>0</td>\n",
              "      <td>0</td>\n",
              "      <td>0</td>\n",
              "      <td>0</td>\n",
              "      <td>0</td>\n",
              "      <td>0</td>\n",
              "      <td>0</td>\n",
              "      <td>0</td>\n",
              "      <td>0</td>\n",
              "      <td>0</td>\n",
              "      <td>0</td>\n",
              "      <td>0</td>\n",
              "      <td>0</td>\n",
              "      <td>0</td>\n",
              "      <td>0</td>\n",
              "      <td>0</td>\n",
              "      <td>0</td>\n",
              "      <td>0</td>\n",
              "      <td>0</td>\n",
              "      <td>...</td>\n",
              "      <td>0</td>\n",
              "      <td>0</td>\n",
              "      <td>0</td>\n",
              "      <td>0</td>\n",
              "      <td>0</td>\n",
              "      <td>0</td>\n",
              "      <td>0</td>\n",
              "      <td>0</td>\n",
              "      <td>0</td>\n",
              "      <td>0</td>\n",
              "      <td>0</td>\n",
              "      <td>0</td>\n",
              "      <td>0</td>\n",
              "      <td>0</td>\n",
              "      <td>0</td>\n",
              "      <td>0</td>\n",
              "      <td>0</td>\n",
              "      <td>0</td>\n",
              "      <td>0</td>\n",
              "      <td>0</td>\n",
              "      <td>0</td>\n",
              "      <td>0</td>\n",
              "      <td>0</td>\n",
              "      <td>0</td>\n",
              "      <td>0</td>\n",
              "      <td>0</td>\n",
              "      <td>0</td>\n",
              "      <td>0</td>\n",
              "      <td>0</td>\n",
              "      <td>0</td>\n",
              "      <td>0</td>\n",
              "      <td>0</td>\n",
              "      <td>0</td>\n",
              "      <td>0</td>\n",
              "      <td>0</td>\n",
              "      <td>0</td>\n",
              "      <td>0</td>\n",
              "      <td>0</td>\n",
              "      <td>0</td>\n",
              "      <td>1</td>\n",
              "    </tr>\n",
              "    <tr>\n",
              "      <th>1</th>\n",
              "      <td>2014</td>\n",
              "      <td>59.9</td>\n",
              "      <td>271.0</td>\n",
              "      <td>64</td>\n",
              "      <td>0.01</td>\n",
              "      <td>73.523582</td>\n",
              "      <td>62.0</td>\n",
              "      <td>492</td>\n",
              "      <td>18.6</td>\n",
              "      <td>86</td>\n",
              "      <td>58.0</td>\n",
              "      <td>8.18</td>\n",
              "      <td>62.0</td>\n",
              "      <td>0.1</td>\n",
              "      <td>612.696514</td>\n",
              "      <td>327582.0</td>\n",
              "      <td>17.5</td>\n",
              "      <td>17.5</td>\n",
              "      <td>0.476</td>\n",
              "      <td>10.0</td>\n",
              "      <td>1</td>\n",
              "      <td>0</td>\n",
              "      <td>0</td>\n",
              "      <td>0</td>\n",
              "      <td>0</td>\n",
              "      <td>0</td>\n",
              "      <td>0</td>\n",
              "      <td>0</td>\n",
              "      <td>0</td>\n",
              "      <td>0</td>\n",
              "      <td>0</td>\n",
              "      <td>0</td>\n",
              "      <td>0</td>\n",
              "      <td>0</td>\n",
              "      <td>0</td>\n",
              "      <td>0</td>\n",
              "      <td>0</td>\n",
              "      <td>0</td>\n",
              "      <td>0</td>\n",
              "      <td>0</td>\n",
              "      <td>...</td>\n",
              "      <td>0</td>\n",
              "      <td>0</td>\n",
              "      <td>0</td>\n",
              "      <td>0</td>\n",
              "      <td>0</td>\n",
              "      <td>0</td>\n",
              "      <td>0</td>\n",
              "      <td>0</td>\n",
              "      <td>0</td>\n",
              "      <td>0</td>\n",
              "      <td>0</td>\n",
              "      <td>0</td>\n",
              "      <td>0</td>\n",
              "      <td>0</td>\n",
              "      <td>0</td>\n",
              "      <td>0</td>\n",
              "      <td>0</td>\n",
              "      <td>0</td>\n",
              "      <td>0</td>\n",
              "      <td>0</td>\n",
              "      <td>0</td>\n",
              "      <td>0</td>\n",
              "      <td>0</td>\n",
              "      <td>0</td>\n",
              "      <td>0</td>\n",
              "      <td>0</td>\n",
              "      <td>0</td>\n",
              "      <td>0</td>\n",
              "      <td>0</td>\n",
              "      <td>0</td>\n",
              "      <td>0</td>\n",
              "      <td>0</td>\n",
              "      <td>0</td>\n",
              "      <td>0</td>\n",
              "      <td>0</td>\n",
              "      <td>0</td>\n",
              "      <td>0</td>\n",
              "      <td>0</td>\n",
              "      <td>0</td>\n",
              "      <td>1</td>\n",
              "    </tr>\n",
              "    <tr>\n",
              "      <th>2</th>\n",
              "      <td>2013</td>\n",
              "      <td>59.9</td>\n",
              "      <td>268.0</td>\n",
              "      <td>66</td>\n",
              "      <td>0.01</td>\n",
              "      <td>73.219243</td>\n",
              "      <td>64.0</td>\n",
              "      <td>430</td>\n",
              "      <td>18.1</td>\n",
              "      <td>89</td>\n",
              "      <td>62.0</td>\n",
              "      <td>8.13</td>\n",
              "      <td>64.0</td>\n",
              "      <td>0.1</td>\n",
              "      <td>631.744976</td>\n",
              "      <td>31731688.0</td>\n",
              "      <td>17.7</td>\n",
              "      <td>17.7</td>\n",
              "      <td>0.470</td>\n",
              "      <td>9.9</td>\n",
              "      <td>1</td>\n",
              "      <td>0</td>\n",
              "      <td>0</td>\n",
              "      <td>0</td>\n",
              "      <td>0</td>\n",
              "      <td>0</td>\n",
              "      <td>0</td>\n",
              "      <td>0</td>\n",
              "      <td>0</td>\n",
              "      <td>0</td>\n",
              "      <td>0</td>\n",
              "      <td>0</td>\n",
              "      <td>0</td>\n",
              "      <td>0</td>\n",
              "      <td>0</td>\n",
              "      <td>0</td>\n",
              "      <td>0</td>\n",
              "      <td>0</td>\n",
              "      <td>0</td>\n",
              "      <td>0</td>\n",
              "      <td>...</td>\n",
              "      <td>0</td>\n",
              "      <td>0</td>\n",
              "      <td>0</td>\n",
              "      <td>0</td>\n",
              "      <td>0</td>\n",
              "      <td>0</td>\n",
              "      <td>0</td>\n",
              "      <td>0</td>\n",
              "      <td>0</td>\n",
              "      <td>0</td>\n",
              "      <td>0</td>\n",
              "      <td>0</td>\n",
              "      <td>0</td>\n",
              "      <td>0</td>\n",
              "      <td>0</td>\n",
              "      <td>0</td>\n",
              "      <td>0</td>\n",
              "      <td>0</td>\n",
              "      <td>0</td>\n",
              "      <td>0</td>\n",
              "      <td>0</td>\n",
              "      <td>0</td>\n",
              "      <td>0</td>\n",
              "      <td>0</td>\n",
              "      <td>0</td>\n",
              "      <td>0</td>\n",
              "      <td>0</td>\n",
              "      <td>0</td>\n",
              "      <td>0</td>\n",
              "      <td>0</td>\n",
              "      <td>0</td>\n",
              "      <td>0</td>\n",
              "      <td>0</td>\n",
              "      <td>0</td>\n",
              "      <td>0</td>\n",
              "      <td>0</td>\n",
              "      <td>0</td>\n",
              "      <td>0</td>\n",
              "      <td>0</td>\n",
              "      <td>1</td>\n",
              "    </tr>\n",
              "    <tr>\n",
              "      <th>3</th>\n",
              "      <td>2012</td>\n",
              "      <td>59.5</td>\n",
              "      <td>272.0</td>\n",
              "      <td>69</td>\n",
              "      <td>0.01</td>\n",
              "      <td>78.184215</td>\n",
              "      <td>67.0</td>\n",
              "      <td>2787</td>\n",
              "      <td>17.6</td>\n",
              "      <td>93</td>\n",
              "      <td>67.0</td>\n",
              "      <td>8.52</td>\n",
              "      <td>67.0</td>\n",
              "      <td>0.1</td>\n",
              "      <td>669.959000</td>\n",
              "      <td>3696958.0</td>\n",
              "      <td>17.9</td>\n",
              "      <td>18.0</td>\n",
              "      <td>0.463</td>\n",
              "      <td>9.8</td>\n",
              "      <td>1</td>\n",
              "      <td>0</td>\n",
              "      <td>0</td>\n",
              "      <td>0</td>\n",
              "      <td>0</td>\n",
              "      <td>0</td>\n",
              "      <td>0</td>\n",
              "      <td>0</td>\n",
              "      <td>0</td>\n",
              "      <td>0</td>\n",
              "      <td>0</td>\n",
              "      <td>0</td>\n",
              "      <td>0</td>\n",
              "      <td>0</td>\n",
              "      <td>0</td>\n",
              "      <td>0</td>\n",
              "      <td>0</td>\n",
              "      <td>0</td>\n",
              "      <td>0</td>\n",
              "      <td>0</td>\n",
              "      <td>...</td>\n",
              "      <td>0</td>\n",
              "      <td>0</td>\n",
              "      <td>0</td>\n",
              "      <td>0</td>\n",
              "      <td>0</td>\n",
              "      <td>0</td>\n",
              "      <td>0</td>\n",
              "      <td>0</td>\n",
              "      <td>0</td>\n",
              "      <td>0</td>\n",
              "      <td>0</td>\n",
              "      <td>0</td>\n",
              "      <td>0</td>\n",
              "      <td>0</td>\n",
              "      <td>0</td>\n",
              "      <td>0</td>\n",
              "      <td>0</td>\n",
              "      <td>0</td>\n",
              "      <td>0</td>\n",
              "      <td>0</td>\n",
              "      <td>0</td>\n",
              "      <td>0</td>\n",
              "      <td>0</td>\n",
              "      <td>0</td>\n",
              "      <td>0</td>\n",
              "      <td>0</td>\n",
              "      <td>0</td>\n",
              "      <td>0</td>\n",
              "      <td>0</td>\n",
              "      <td>0</td>\n",
              "      <td>0</td>\n",
              "      <td>0</td>\n",
              "      <td>0</td>\n",
              "      <td>0</td>\n",
              "      <td>0</td>\n",
              "      <td>0</td>\n",
              "      <td>0</td>\n",
              "      <td>0</td>\n",
              "      <td>0</td>\n",
              "      <td>1</td>\n",
              "    </tr>\n",
              "    <tr>\n",
              "      <th>4</th>\n",
              "      <td>2011</td>\n",
              "      <td>59.2</td>\n",
              "      <td>275.0</td>\n",
              "      <td>71</td>\n",
              "      <td>0.01</td>\n",
              "      <td>7.097109</td>\n",
              "      <td>68.0</td>\n",
              "      <td>3013</td>\n",
              "      <td>17.2</td>\n",
              "      <td>97</td>\n",
              "      <td>68.0</td>\n",
              "      <td>7.87</td>\n",
              "      <td>68.0</td>\n",
              "      <td>0.1</td>\n",
              "      <td>63.537231</td>\n",
              "      <td>2978599.0</td>\n",
              "      <td>18.2</td>\n",
              "      <td>18.2</td>\n",
              "      <td>0.454</td>\n",
              "      <td>9.5</td>\n",
              "      <td>1</td>\n",
              "      <td>0</td>\n",
              "      <td>0</td>\n",
              "      <td>0</td>\n",
              "      <td>0</td>\n",
              "      <td>0</td>\n",
              "      <td>0</td>\n",
              "      <td>0</td>\n",
              "      <td>0</td>\n",
              "      <td>0</td>\n",
              "      <td>0</td>\n",
              "      <td>0</td>\n",
              "      <td>0</td>\n",
              "      <td>0</td>\n",
              "      <td>0</td>\n",
              "      <td>0</td>\n",
              "      <td>0</td>\n",
              "      <td>0</td>\n",
              "      <td>0</td>\n",
              "      <td>0</td>\n",
              "      <td>...</td>\n",
              "      <td>0</td>\n",
              "      <td>0</td>\n",
              "      <td>0</td>\n",
              "      <td>0</td>\n",
              "      <td>0</td>\n",
              "      <td>0</td>\n",
              "      <td>0</td>\n",
              "      <td>0</td>\n",
              "      <td>0</td>\n",
              "      <td>0</td>\n",
              "      <td>0</td>\n",
              "      <td>0</td>\n",
              "      <td>0</td>\n",
              "      <td>0</td>\n",
              "      <td>0</td>\n",
              "      <td>0</td>\n",
              "      <td>0</td>\n",
              "      <td>0</td>\n",
              "      <td>0</td>\n",
              "      <td>0</td>\n",
              "      <td>0</td>\n",
              "      <td>0</td>\n",
              "      <td>0</td>\n",
              "      <td>0</td>\n",
              "      <td>0</td>\n",
              "      <td>0</td>\n",
              "      <td>0</td>\n",
              "      <td>0</td>\n",
              "      <td>0</td>\n",
              "      <td>0</td>\n",
              "      <td>0</td>\n",
              "      <td>0</td>\n",
              "      <td>0</td>\n",
              "      <td>0</td>\n",
              "      <td>0</td>\n",
              "      <td>0</td>\n",
              "      <td>0</td>\n",
              "      <td>0</td>\n",
              "      <td>0</td>\n",
              "      <td>1</td>\n",
              "    </tr>\n",
              "  </tbody>\n",
              "</table>\n",
              "<p>5 rows × 215 columns</p>\n",
              "</div>\n",
              "      <button class=\"colab-df-convert\" onclick=\"convertToInteractive('df-95610cd0-a62e-40c0-bcbe-02bdc2bbaaa0')\"\n",
              "              title=\"Convert this dataframe to an interactive table.\"\n",
              "              style=\"display:none;\">\n",
              "        \n",
              "  <svg xmlns=\"http://www.w3.org/2000/svg\" height=\"24px\"viewBox=\"0 0 24 24\"\n",
              "       width=\"24px\">\n",
              "    <path d=\"M0 0h24v24H0V0z\" fill=\"none\"/>\n",
              "    <path d=\"M18.56 5.44l.94 2.06.94-2.06 2.06-.94-2.06-.94-.94-2.06-.94 2.06-2.06.94zm-11 1L8.5 8.5l.94-2.06 2.06-.94-2.06-.94L8.5 2.5l-.94 2.06-2.06.94zm10 10l.94 2.06.94-2.06 2.06-.94-2.06-.94-.94-2.06-.94 2.06-2.06.94z\"/><path d=\"M17.41 7.96l-1.37-1.37c-.4-.4-.92-.59-1.43-.59-.52 0-1.04.2-1.43.59L10.3 9.45l-7.72 7.72c-.78.78-.78 2.05 0 2.83L4 21.41c.39.39.9.59 1.41.59.51 0 1.02-.2 1.41-.59l7.78-7.78 2.81-2.81c.8-.78.8-2.07 0-2.86zM5.41 20L4 18.59l7.72-7.72 1.47 1.35L5.41 20z\"/>\n",
              "  </svg>\n",
              "      </button>\n",
              "      \n",
              "  <style>\n",
              "    .colab-df-container {\n",
              "      display:flex;\n",
              "      flex-wrap:wrap;\n",
              "      gap: 12px;\n",
              "    }\n",
              "\n",
              "    .colab-df-convert {\n",
              "      background-color: #E8F0FE;\n",
              "      border: none;\n",
              "      border-radius: 50%;\n",
              "      cursor: pointer;\n",
              "      display: none;\n",
              "      fill: #1967D2;\n",
              "      height: 32px;\n",
              "      padding: 0 0 0 0;\n",
              "      width: 32px;\n",
              "    }\n",
              "\n",
              "    .colab-df-convert:hover {\n",
              "      background-color: #E2EBFA;\n",
              "      box-shadow: 0px 1px 2px rgba(60, 64, 67, 0.3), 0px 1px 3px 1px rgba(60, 64, 67, 0.15);\n",
              "      fill: #174EA6;\n",
              "    }\n",
              "\n",
              "    [theme=dark] .colab-df-convert {\n",
              "      background-color: #3B4455;\n",
              "      fill: #D2E3FC;\n",
              "    }\n",
              "\n",
              "    [theme=dark] .colab-df-convert:hover {\n",
              "      background-color: #434B5C;\n",
              "      box-shadow: 0px 1px 3px 1px rgba(0, 0, 0, 0.15);\n",
              "      filter: drop-shadow(0px 1px 2px rgba(0, 0, 0, 0.3));\n",
              "      fill: #FFFFFF;\n",
              "    }\n",
              "  </style>\n",
              "\n",
              "      <script>\n",
              "        const buttonEl =\n",
              "          document.querySelector('#df-95610cd0-a62e-40c0-bcbe-02bdc2bbaaa0 button.colab-df-convert');\n",
              "        buttonEl.style.display =\n",
              "          google.colab.kernel.accessAllowed ? 'block' : 'none';\n",
              "\n",
              "        async function convertToInteractive(key) {\n",
              "          const element = document.querySelector('#df-95610cd0-a62e-40c0-bcbe-02bdc2bbaaa0');\n",
              "          const dataTable =\n",
              "            await google.colab.kernel.invokeFunction('convertToInteractive',\n",
              "                                                     [key], {});\n",
              "          if (!dataTable) return;\n",
              "\n",
              "          const docLinkHtml = 'Like what you see? Visit the ' +\n",
              "            '<a target=\"_blank\" href=https://colab.research.google.com/notebooks/data_table.ipynb>data table notebook</a>'\n",
              "            + ' to learn more about interactive tables.';\n",
              "          element.innerHTML = '';\n",
              "          dataTable['output_type'] = 'display_data';\n",
              "          await google.colab.output.renderOutput(dataTable, element);\n",
              "          const docLink = document.createElement('div');\n",
              "          docLink.innerHTML = docLinkHtml;\n",
              "          element.appendChild(docLink);\n",
              "        }\n",
              "      </script>\n",
              "    </div>\n",
              "  </div>\n",
              "  "
            ],
            "text/plain": [
              "   Year  Life expectancy  ...  Status_Developed  Status_Developing\n",
              "0  2015             65.0  ...                 0                  1\n",
              "1  2014             59.9  ...                 0                  1\n",
              "2  2013             59.9  ...                 0                  1\n",
              "3  2012             59.5  ...                 0                  1\n",
              "4  2011             59.2  ...                 0                  1\n",
              "\n",
              "[5 rows x 215 columns]"
            ]
          },
          "metadata": {},
          "execution_count": 9
        }
      ]
    },
    {
      "cell_type": "markdown",
      "source": [
        "**Нормализация**"
      ],
      "metadata": {
        "id": "sHPlnL-18wDo"
      }
    },
    {
      "cell_type": "code",
      "source": [
        "data_norm = (data_raw - data_raw.min(axis=0)) / (data_raw.max(axis=0) - data_raw.min(axis=0))\n",
        "data_norm.describe()"
      ],
      "metadata": {
        "colab": {
          "base_uri": "https://localhost:8080/",
          "height": 463
        },
        "id": "OaXghdiE8xTm",
        "outputId": "273edcc9-c56d-485a-9eda-4b6354a29063"
      },
      "execution_count": 10,
      "outputs": [
        {
          "output_type": "execute_result",
          "data": {
            "text/html": [
              "\n",
              "  <div id=\"df-12ddb73d-1e35-42b1-968a-c91b187e8859\">\n",
              "    <div class=\"colab-df-container\">\n",
              "      <div>\n",
              "<style scoped>\n",
              "    .dataframe tbody tr th:only-of-type {\n",
              "        vertical-align: middle;\n",
              "    }\n",
              "\n",
              "    .dataframe tbody tr th {\n",
              "        vertical-align: top;\n",
              "    }\n",
              "\n",
              "    .dataframe thead th {\n",
              "        text-align: right;\n",
              "    }\n",
              "</style>\n",
              "<table border=\"1\" class=\"dataframe\">\n",
              "  <thead>\n",
              "    <tr style=\"text-align: right;\">\n",
              "      <th></th>\n",
              "      <th>Year</th>\n",
              "      <th>Life expectancy</th>\n",
              "      <th>Adult Mortality</th>\n",
              "      <th>infant deaths</th>\n",
              "      <th>Alcohol</th>\n",
              "      <th>percentage expenditure</th>\n",
              "      <th>Hepatitis B</th>\n",
              "      <th>Measles</th>\n",
              "      <th>BMI</th>\n",
              "      <th>Under-five deaths</th>\n",
              "      <th>Polio</th>\n",
              "      <th>Total expenditure</th>\n",
              "      <th>Diphtheria</th>\n",
              "      <th>HIV/AIDS</th>\n",
              "      <th>GDP</th>\n",
              "      <th>Population</th>\n",
              "      <th>Thinness 1-19 years</th>\n",
              "      <th>Thinness 5-9 years</th>\n",
              "      <th>Income composition of resources</th>\n",
              "      <th>Schooling</th>\n",
              "      <th>Country_Afghanistan</th>\n",
              "      <th>Country_Albania</th>\n",
              "      <th>Country_Algeria</th>\n",
              "      <th>Country_Angola</th>\n",
              "      <th>Country_Antigua and Barbuda</th>\n",
              "      <th>Country_Argentina</th>\n",
              "      <th>Country_Armenia</th>\n",
              "      <th>Country_Australia</th>\n",
              "      <th>Country_Austria</th>\n",
              "      <th>Country_Azerbaijan</th>\n",
              "      <th>Country_Bahamas</th>\n",
              "      <th>Country_Bahrain</th>\n",
              "      <th>Country_Bangladesh</th>\n",
              "      <th>Country_Barbados</th>\n",
              "      <th>Country_Belarus</th>\n",
              "      <th>Country_Belgium</th>\n",
              "      <th>Country_Belize</th>\n",
              "      <th>Country_Benin</th>\n",
              "      <th>Country_Bhutan</th>\n",
              "      <th>Country_Bolivia (Plurinational State of)</th>\n",
              "      <th>...</th>\n",
              "      <th>Country_Slovenia</th>\n",
              "      <th>Country_Solomon Islands</th>\n",
              "      <th>Country_Somalia</th>\n",
              "      <th>Country_South Africa</th>\n",
              "      <th>Country_South Sudan</th>\n",
              "      <th>Country_Spain</th>\n",
              "      <th>Country_Sri Lanka</th>\n",
              "      <th>Country_Sudan</th>\n",
              "      <th>Country_Suriname</th>\n",
              "      <th>Country_Swaziland</th>\n",
              "      <th>Country_Sweden</th>\n",
              "      <th>Country_Switzerland</th>\n",
              "      <th>Country_Syrian Arab Republic</th>\n",
              "      <th>Country_Tajikistan</th>\n",
              "      <th>Country_Thailand</th>\n",
              "      <th>Country_The former Yugoslav republic of Macedonia</th>\n",
              "      <th>Country_Timor-Leste</th>\n",
              "      <th>Country_Togo</th>\n",
              "      <th>Country_Tonga</th>\n",
              "      <th>Country_Trinidad and Tobago</th>\n",
              "      <th>Country_Tunisia</th>\n",
              "      <th>Country_Turkey</th>\n",
              "      <th>Country_Turkmenistan</th>\n",
              "      <th>Country_Tuvalu</th>\n",
              "      <th>Country_Uganda</th>\n",
              "      <th>Country_Ukraine</th>\n",
              "      <th>Country_United Arab Emirates</th>\n",
              "      <th>Country_United Kingdom of Great Britain and Northern Ireland</th>\n",
              "      <th>Country_United Republic of Tanzania</th>\n",
              "      <th>Country_United States of America</th>\n",
              "      <th>Country_Uruguay</th>\n",
              "      <th>Country_Uzbekistan</th>\n",
              "      <th>Country_Vanuatu</th>\n",
              "      <th>Country_Venezuela (Bolivarian Republic of)</th>\n",
              "      <th>Country_Viet Nam</th>\n",
              "      <th>Country_Yemen</th>\n",
              "      <th>Country_Zambia</th>\n",
              "      <th>Country_Zimbabwe</th>\n",
              "      <th>Status_Developed</th>\n",
              "      <th>Status_Developing</th>\n",
              "    </tr>\n",
              "  </thead>\n",
              "  <tbody>\n",
              "    <tr>\n",
              "      <th>count</th>\n",
              "      <td>2888.000000</td>\n",
              "      <td>2888.000000</td>\n",
              "      <td>2888.000000</td>\n",
              "      <td>2888.000000</td>\n",
              "      <td>2888.000000</td>\n",
              "      <td>2888.000000</td>\n",
              "      <td>2888.000000</td>\n",
              "      <td>2888.000000</td>\n",
              "      <td>2888.000000</td>\n",
              "      <td>2888.000000</td>\n",
              "      <td>2888.000000</td>\n",
              "      <td>2888.000000</td>\n",
              "      <td>2888.000000</td>\n",
              "      <td>2888.000000</td>\n",
              "      <td>2888.000000</td>\n",
              "      <td>2888.000000</td>\n",
              "      <td>2888.000000</td>\n",
              "      <td>2888.000000</td>\n",
              "      <td>2888.000000</td>\n",
              "      <td>2888.000000</td>\n",
              "      <td>2888.000000</td>\n",
              "      <td>2888.000000</td>\n",
              "      <td>2888.000000</td>\n",
              "      <td>2888.000000</td>\n",
              "      <td>2888.000000</td>\n",
              "      <td>2888.000000</td>\n",
              "      <td>2888.000000</td>\n",
              "      <td>2888.000000</td>\n",
              "      <td>2888.000000</td>\n",
              "      <td>2888.000000</td>\n",
              "      <td>2888.000000</td>\n",
              "      <td>2888.000000</td>\n",
              "      <td>2888.000000</td>\n",
              "      <td>2888.000000</td>\n",
              "      <td>2888.000000</td>\n",
              "      <td>2888.000000</td>\n",
              "      <td>2888.000000</td>\n",
              "      <td>2888.000000</td>\n",
              "      <td>2888.000000</td>\n",
              "      <td>2888.000000</td>\n",
              "      <td>...</td>\n",
              "      <td>2888.000000</td>\n",
              "      <td>2888.000000</td>\n",
              "      <td>2888.000000</td>\n",
              "      <td>2888.000000</td>\n",
              "      <td>0.0</td>\n",
              "      <td>2888.000000</td>\n",
              "      <td>2888.000000</td>\n",
              "      <td>0.0</td>\n",
              "      <td>2888.000000</td>\n",
              "      <td>2888.000000</td>\n",
              "      <td>2888.000000</td>\n",
              "      <td>2888.000000</td>\n",
              "      <td>2888.000000</td>\n",
              "      <td>2888.000000</td>\n",
              "      <td>2888.000000</td>\n",
              "      <td>2888.000000</td>\n",
              "      <td>2888.000000</td>\n",
              "      <td>2888.000000</td>\n",
              "      <td>2888.000000</td>\n",
              "      <td>2888.000000</td>\n",
              "      <td>2888.000000</td>\n",
              "      <td>2888.000000</td>\n",
              "      <td>2888.000000</td>\n",
              "      <td>0.0</td>\n",
              "      <td>2888.000000</td>\n",
              "      <td>2888.000000</td>\n",
              "      <td>2888.000000</td>\n",
              "      <td>2888.000000</td>\n",
              "      <td>2888.000000</td>\n",
              "      <td>2888.000000</td>\n",
              "      <td>2888.000000</td>\n",
              "      <td>2888.000000</td>\n",
              "      <td>2888.000000</td>\n",
              "      <td>2888.000000</td>\n",
              "      <td>2888.000000</td>\n",
              "      <td>2888.000000</td>\n",
              "      <td>2888.000000</td>\n",
              "      <td>2888.000000</td>\n",
              "      <td>2888.000000</td>\n",
              "      <td>2888.000000</td>\n",
              "    </tr>\n",
              "    <tr>\n",
              "      <th>mean</th>\n",
              "      <td>0.501016</td>\n",
              "      <td>0.627123</td>\n",
              "      <td>0.224872</td>\n",
              "      <td>0.016842</td>\n",
              "      <td>0.256437</td>\n",
              "      <td>0.038474</td>\n",
              "      <td>0.836915</td>\n",
              "      <td>0.011511</td>\n",
              "      <td>0.485915</td>\n",
              "      <td>0.016794</td>\n",
              "      <td>0.829918</td>\n",
              "      <td>0.322035</td>\n",
              "      <td>0.829254</td>\n",
              "      <td>0.032669</td>\n",
              "      <td>0.056222</td>\n",
              "      <td>0.007947</td>\n",
              "      <td>0.172123</td>\n",
              "      <td>0.167766</td>\n",
              "      <td>0.669837</td>\n",
              "      <td>0.585821</td>\n",
              "      <td>0.005540</td>\n",
              "      <td>0.005540</td>\n",
              "      <td>0.005540</td>\n",
              "      <td>0.005540</td>\n",
              "      <td>0.005540</td>\n",
              "      <td>0.005540</td>\n",
              "      <td>0.005540</td>\n",
              "      <td>0.005540</td>\n",
              "      <td>0.005540</td>\n",
              "      <td>0.005540</td>\n",
              "      <td>0.005540</td>\n",
              "      <td>0.005540</td>\n",
              "      <td>0.005540</td>\n",
              "      <td>0.005540</td>\n",
              "      <td>0.005540</td>\n",
              "      <td>0.005540</td>\n",
              "      <td>0.005540</td>\n",
              "      <td>0.005540</td>\n",
              "      <td>0.005540</td>\n",
              "      <td>0.005540</td>\n",
              "      <td>...</td>\n",
              "      <td>0.005540</td>\n",
              "      <td>0.005540</td>\n",
              "      <td>0.005540</td>\n",
              "      <td>0.005540</td>\n",
              "      <td>NaN</td>\n",
              "      <td>0.005540</td>\n",
              "      <td>0.005540</td>\n",
              "      <td>NaN</td>\n",
              "      <td>0.005540</td>\n",
              "      <td>0.005540</td>\n",
              "      <td>0.005540</td>\n",
              "      <td>0.005540</td>\n",
              "      <td>0.005540</td>\n",
              "      <td>0.005540</td>\n",
              "      <td>0.005540</td>\n",
              "      <td>0.005540</td>\n",
              "      <td>0.004848</td>\n",
              "      <td>0.005540</td>\n",
              "      <td>0.005540</td>\n",
              "      <td>0.005540</td>\n",
              "      <td>0.005540</td>\n",
              "      <td>0.005540</td>\n",
              "      <td>0.005540</td>\n",
              "      <td>NaN</td>\n",
              "      <td>0.005540</td>\n",
              "      <td>0.005540</td>\n",
              "      <td>0.005540</td>\n",
              "      <td>0.005540</td>\n",
              "      <td>0.005540</td>\n",
              "      <td>0.005540</td>\n",
              "      <td>0.005540</td>\n",
              "      <td>0.005540</td>\n",
              "      <td>0.005540</td>\n",
              "      <td>0.005540</td>\n",
              "      <td>0.005540</td>\n",
              "      <td>0.005540</td>\n",
              "      <td>0.005540</td>\n",
              "      <td>0.005540</td>\n",
              "      <td>0.177285</td>\n",
              "      <td>0.822715</td>\n",
              "    </tr>\n",
              "    <tr>\n",
              "      <th>std</th>\n",
              "      <td>0.307129</td>\n",
              "      <td>0.180179</td>\n",
              "      <td>0.171771</td>\n",
              "      <td>0.066051</td>\n",
              "      <td>0.220295</td>\n",
              "      <td>0.102828</td>\n",
              "      <td>0.234541</td>\n",
              "      <td>0.054488</td>\n",
              "      <td>0.260609</td>\n",
              "      <td>0.064697</td>\n",
              "      <td>0.243059</td>\n",
              "      <td>0.138725</td>\n",
              "      <td>0.243803</td>\n",
              "      <td>0.101318</td>\n",
              "      <td>0.112384</td>\n",
              "      <td>0.042095</td>\n",
              "      <td>0.160196</td>\n",
              "      <td>0.158260</td>\n",
              "      <td>0.211680</td>\n",
              "      <td>0.150127</td>\n",
              "      <td>0.074239</td>\n",
              "      <td>0.074239</td>\n",
              "      <td>0.074239</td>\n",
              "      <td>0.074239</td>\n",
              "      <td>0.074239</td>\n",
              "      <td>0.074239</td>\n",
              "      <td>0.074239</td>\n",
              "      <td>0.074239</td>\n",
              "      <td>0.074239</td>\n",
              "      <td>0.074239</td>\n",
              "      <td>0.074239</td>\n",
              "      <td>0.074239</td>\n",
              "      <td>0.074239</td>\n",
              "      <td>0.074239</td>\n",
              "      <td>0.074239</td>\n",
              "      <td>0.074239</td>\n",
              "      <td>0.074239</td>\n",
              "      <td>0.074239</td>\n",
              "      <td>0.074239</td>\n",
              "      <td>0.074239</td>\n",
              "      <td>...</td>\n",
              "      <td>0.074239</td>\n",
              "      <td>0.074239</td>\n",
              "      <td>0.074239</td>\n",
              "      <td>0.074239</td>\n",
              "      <td>NaN</td>\n",
              "      <td>0.074239</td>\n",
              "      <td>0.074239</td>\n",
              "      <td>NaN</td>\n",
              "      <td>0.074239</td>\n",
              "      <td>0.074239</td>\n",
              "      <td>0.074239</td>\n",
              "      <td>0.074239</td>\n",
              "      <td>0.074239</td>\n",
              "      <td>0.074239</td>\n",
              "      <td>0.074239</td>\n",
              "      <td>0.074239</td>\n",
              "      <td>0.069468</td>\n",
              "      <td>0.074239</td>\n",
              "      <td>0.074239</td>\n",
              "      <td>0.074239</td>\n",
              "      <td>0.074239</td>\n",
              "      <td>0.074239</td>\n",
              "      <td>0.074239</td>\n",
              "      <td>NaN</td>\n",
              "      <td>0.074239</td>\n",
              "      <td>0.074239</td>\n",
              "      <td>0.074239</td>\n",
              "      <td>0.074239</td>\n",
              "      <td>0.074239</td>\n",
              "      <td>0.074239</td>\n",
              "      <td>0.074239</td>\n",
              "      <td>0.074239</td>\n",
              "      <td>0.074239</td>\n",
              "      <td>0.074239</td>\n",
              "      <td>0.074239</td>\n",
              "      <td>0.074239</td>\n",
              "      <td>0.074239</td>\n",
              "      <td>0.074239</td>\n",
              "      <td>0.381976</td>\n",
              "      <td>0.381976</td>\n",
              "    </tr>\n",
              "    <tr>\n",
              "      <th>min</th>\n",
              "      <td>0.000000</td>\n",
              "      <td>0.000000</td>\n",
              "      <td>0.000000</td>\n",
              "      <td>0.000000</td>\n",
              "      <td>0.000000</td>\n",
              "      <td>0.000000</td>\n",
              "      <td>0.000000</td>\n",
              "      <td>0.000000</td>\n",
              "      <td>0.000000</td>\n",
              "      <td>0.000000</td>\n",
              "      <td>0.000000</td>\n",
              "      <td>0.000000</td>\n",
              "      <td>0.000000</td>\n",
              "      <td>0.000000</td>\n",
              "      <td>0.000000</td>\n",
              "      <td>0.000000</td>\n",
              "      <td>0.000000</td>\n",
              "      <td>0.000000</td>\n",
              "      <td>0.000000</td>\n",
              "      <td>0.000000</td>\n",
              "      <td>0.000000</td>\n",
              "      <td>0.000000</td>\n",
              "      <td>0.000000</td>\n",
              "      <td>0.000000</td>\n",
              "      <td>0.000000</td>\n",
              "      <td>0.000000</td>\n",
              "      <td>0.000000</td>\n",
              "      <td>0.000000</td>\n",
              "      <td>0.000000</td>\n",
              "      <td>0.000000</td>\n",
              "      <td>0.000000</td>\n",
              "      <td>0.000000</td>\n",
              "      <td>0.000000</td>\n",
              "      <td>0.000000</td>\n",
              "      <td>0.000000</td>\n",
              "      <td>0.000000</td>\n",
              "      <td>0.000000</td>\n",
              "      <td>0.000000</td>\n",
              "      <td>0.000000</td>\n",
              "      <td>0.000000</td>\n",
              "      <td>...</td>\n",
              "      <td>0.000000</td>\n",
              "      <td>0.000000</td>\n",
              "      <td>0.000000</td>\n",
              "      <td>0.000000</td>\n",
              "      <td>NaN</td>\n",
              "      <td>0.000000</td>\n",
              "      <td>0.000000</td>\n",
              "      <td>NaN</td>\n",
              "      <td>0.000000</td>\n",
              "      <td>0.000000</td>\n",
              "      <td>0.000000</td>\n",
              "      <td>0.000000</td>\n",
              "      <td>0.000000</td>\n",
              "      <td>0.000000</td>\n",
              "      <td>0.000000</td>\n",
              "      <td>0.000000</td>\n",
              "      <td>0.000000</td>\n",
              "      <td>0.000000</td>\n",
              "      <td>0.000000</td>\n",
              "      <td>0.000000</td>\n",
              "      <td>0.000000</td>\n",
              "      <td>0.000000</td>\n",
              "      <td>0.000000</td>\n",
              "      <td>NaN</td>\n",
              "      <td>0.000000</td>\n",
              "      <td>0.000000</td>\n",
              "      <td>0.000000</td>\n",
              "      <td>0.000000</td>\n",
              "      <td>0.000000</td>\n",
              "      <td>0.000000</td>\n",
              "      <td>0.000000</td>\n",
              "      <td>0.000000</td>\n",
              "      <td>0.000000</td>\n",
              "      <td>0.000000</td>\n",
              "      <td>0.000000</td>\n",
              "      <td>0.000000</td>\n",
              "      <td>0.000000</td>\n",
              "      <td>0.000000</td>\n",
              "      <td>0.000000</td>\n",
              "      <td>0.000000</td>\n",
              "    </tr>\n",
              "    <tr>\n",
              "      <th>25%</th>\n",
              "      <td>0.266667</td>\n",
              "      <td>0.515655</td>\n",
              "      <td>0.099723</td>\n",
              "      <td>0.000000</td>\n",
              "      <td>0.061450</td>\n",
              "      <td>0.000259</td>\n",
              "      <td>0.826531</td>\n",
              "      <td>0.000000</td>\n",
              "      <td>0.238903</td>\n",
              "      <td>0.000000</td>\n",
              "      <td>0.781250</td>\n",
              "      <td>0.232153</td>\n",
              "      <td>0.783505</td>\n",
              "      <td>0.000000</td>\n",
              "      <td>0.004850</td>\n",
              "      <td>0.000321</td>\n",
              "      <td>0.054348</td>\n",
              "      <td>0.049123</td>\n",
              "      <td>0.539821</td>\n",
              "      <td>0.502415</td>\n",
              "      <td>0.000000</td>\n",
              "      <td>0.000000</td>\n",
              "      <td>0.000000</td>\n",
              "      <td>0.000000</td>\n",
              "      <td>0.000000</td>\n",
              "      <td>0.000000</td>\n",
              "      <td>0.000000</td>\n",
              "      <td>0.000000</td>\n",
              "      <td>0.000000</td>\n",
              "      <td>0.000000</td>\n",
              "      <td>0.000000</td>\n",
              "      <td>0.000000</td>\n",
              "      <td>0.000000</td>\n",
              "      <td>0.000000</td>\n",
              "      <td>0.000000</td>\n",
              "      <td>0.000000</td>\n",
              "      <td>0.000000</td>\n",
              "      <td>0.000000</td>\n",
              "      <td>0.000000</td>\n",
              "      <td>0.000000</td>\n",
              "      <td>...</td>\n",
              "      <td>0.000000</td>\n",
              "      <td>0.000000</td>\n",
              "      <td>0.000000</td>\n",
              "      <td>0.000000</td>\n",
              "      <td>NaN</td>\n",
              "      <td>0.000000</td>\n",
              "      <td>0.000000</td>\n",
              "      <td>NaN</td>\n",
              "      <td>0.000000</td>\n",
              "      <td>0.000000</td>\n",
              "      <td>0.000000</td>\n",
              "      <td>0.000000</td>\n",
              "      <td>0.000000</td>\n",
              "      <td>0.000000</td>\n",
              "      <td>0.000000</td>\n",
              "      <td>0.000000</td>\n",
              "      <td>0.000000</td>\n",
              "      <td>0.000000</td>\n",
              "      <td>0.000000</td>\n",
              "      <td>0.000000</td>\n",
              "      <td>0.000000</td>\n",
              "      <td>0.000000</td>\n",
              "      <td>0.000000</td>\n",
              "      <td>NaN</td>\n",
              "      <td>0.000000</td>\n",
              "      <td>0.000000</td>\n",
              "      <td>0.000000</td>\n",
              "      <td>0.000000</td>\n",
              "      <td>0.000000</td>\n",
              "      <td>0.000000</td>\n",
              "      <td>0.000000</td>\n",
              "      <td>0.000000</td>\n",
              "      <td>0.000000</td>\n",
              "      <td>0.000000</td>\n",
              "      <td>0.000000</td>\n",
              "      <td>0.000000</td>\n",
              "      <td>0.000000</td>\n",
              "      <td>0.000000</td>\n",
              "      <td>0.000000</td>\n",
              "      <td>1.000000</td>\n",
              "    </tr>\n",
              "    <tr>\n",
              "      <th>50%</th>\n",
              "      <td>0.533333</td>\n",
              "      <td>0.681214</td>\n",
              "      <td>0.196676</td>\n",
              "      <td>0.001667</td>\n",
              "      <td>0.209686</td>\n",
              "      <td>0.003475</td>\n",
              "      <td>0.928571</td>\n",
              "      <td>0.000080</td>\n",
              "      <td>0.551567</td>\n",
              "      <td>0.001600</td>\n",
              "      <td>0.937500</td>\n",
              "      <td>0.312536</td>\n",
              "      <td>0.938144</td>\n",
              "      <td>0.000000</td>\n",
              "      <td>0.014813</td>\n",
              "      <td>0.001072</td>\n",
              "      <td>0.117754</td>\n",
              "      <td>0.115789</td>\n",
              "      <td>0.714135</td>\n",
              "      <td>0.594203</td>\n",
              "      <td>0.000000</td>\n",
              "      <td>0.000000</td>\n",
              "      <td>0.000000</td>\n",
              "      <td>0.000000</td>\n",
              "      <td>0.000000</td>\n",
              "      <td>0.000000</td>\n",
              "      <td>0.000000</td>\n",
              "      <td>0.000000</td>\n",
              "      <td>0.000000</td>\n",
              "      <td>0.000000</td>\n",
              "      <td>0.000000</td>\n",
              "      <td>0.000000</td>\n",
              "      <td>0.000000</td>\n",
              "      <td>0.000000</td>\n",
              "      <td>0.000000</td>\n",
              "      <td>0.000000</td>\n",
              "      <td>0.000000</td>\n",
              "      <td>0.000000</td>\n",
              "      <td>0.000000</td>\n",
              "      <td>0.000000</td>\n",
              "      <td>...</td>\n",
              "      <td>0.000000</td>\n",
              "      <td>0.000000</td>\n",
              "      <td>0.000000</td>\n",
              "      <td>0.000000</td>\n",
              "      <td>NaN</td>\n",
              "      <td>0.000000</td>\n",
              "      <td>0.000000</td>\n",
              "      <td>NaN</td>\n",
              "      <td>0.000000</td>\n",
              "      <td>0.000000</td>\n",
              "      <td>0.000000</td>\n",
              "      <td>0.000000</td>\n",
              "      <td>0.000000</td>\n",
              "      <td>0.000000</td>\n",
              "      <td>0.000000</td>\n",
              "      <td>0.000000</td>\n",
              "      <td>0.000000</td>\n",
              "      <td>0.000000</td>\n",
              "      <td>0.000000</td>\n",
              "      <td>0.000000</td>\n",
              "      <td>0.000000</td>\n",
              "      <td>0.000000</td>\n",
              "      <td>0.000000</td>\n",
              "      <td>NaN</td>\n",
              "      <td>0.000000</td>\n",
              "      <td>0.000000</td>\n",
              "      <td>0.000000</td>\n",
              "      <td>0.000000</td>\n",
              "      <td>0.000000</td>\n",
              "      <td>0.000000</td>\n",
              "      <td>0.000000</td>\n",
              "      <td>0.000000</td>\n",
              "      <td>0.000000</td>\n",
              "      <td>0.000000</td>\n",
              "      <td>0.000000</td>\n",
              "      <td>0.000000</td>\n",
              "      <td>0.000000</td>\n",
              "      <td>0.000000</td>\n",
              "      <td>0.000000</td>\n",
              "      <td>1.000000</td>\n",
              "    </tr>\n",
              "    <tr>\n",
              "      <th>75%</th>\n",
              "      <td>0.800000</td>\n",
              "      <td>0.749526</td>\n",
              "      <td>0.310249</td>\n",
              "      <td>0.011667</td>\n",
              "      <td>0.418813</td>\n",
              "      <td>0.023328</td>\n",
              "      <td>0.969388</td>\n",
              "      <td>0.001660</td>\n",
              "      <td>0.719321</td>\n",
              "      <td>0.010400</td>\n",
              "      <td>0.979167</td>\n",
              "      <td>0.403511</td>\n",
              "      <td>0.979381</td>\n",
              "      <td>0.013861</td>\n",
              "      <td>0.041116</td>\n",
              "      <td>0.003532</td>\n",
              "      <td>0.257246</td>\n",
              "      <td>0.249123</td>\n",
              "      <td>0.816456</td>\n",
              "      <td>0.685990</td>\n",
              "      <td>0.000000</td>\n",
              "      <td>0.000000</td>\n",
              "      <td>0.000000</td>\n",
              "      <td>0.000000</td>\n",
              "      <td>0.000000</td>\n",
              "      <td>0.000000</td>\n",
              "      <td>0.000000</td>\n",
              "      <td>0.000000</td>\n",
              "      <td>0.000000</td>\n",
              "      <td>0.000000</td>\n",
              "      <td>0.000000</td>\n",
              "      <td>0.000000</td>\n",
              "      <td>0.000000</td>\n",
              "      <td>0.000000</td>\n",
              "      <td>0.000000</td>\n",
              "      <td>0.000000</td>\n",
              "      <td>0.000000</td>\n",
              "      <td>0.000000</td>\n",
              "      <td>0.000000</td>\n",
              "      <td>0.000000</td>\n",
              "      <td>...</td>\n",
              "      <td>0.000000</td>\n",
              "      <td>0.000000</td>\n",
              "      <td>0.000000</td>\n",
              "      <td>0.000000</td>\n",
              "      <td>NaN</td>\n",
              "      <td>0.000000</td>\n",
              "      <td>0.000000</td>\n",
              "      <td>NaN</td>\n",
              "      <td>0.000000</td>\n",
              "      <td>0.000000</td>\n",
              "      <td>0.000000</td>\n",
              "      <td>0.000000</td>\n",
              "      <td>0.000000</td>\n",
              "      <td>0.000000</td>\n",
              "      <td>0.000000</td>\n",
              "      <td>0.000000</td>\n",
              "      <td>0.000000</td>\n",
              "      <td>0.000000</td>\n",
              "      <td>0.000000</td>\n",
              "      <td>0.000000</td>\n",
              "      <td>0.000000</td>\n",
              "      <td>0.000000</td>\n",
              "      <td>0.000000</td>\n",
              "      <td>NaN</td>\n",
              "      <td>0.000000</td>\n",
              "      <td>0.000000</td>\n",
              "      <td>0.000000</td>\n",
              "      <td>0.000000</td>\n",
              "      <td>0.000000</td>\n",
              "      <td>0.000000</td>\n",
              "      <td>0.000000</td>\n",
              "      <td>0.000000</td>\n",
              "      <td>0.000000</td>\n",
              "      <td>0.000000</td>\n",
              "      <td>0.000000</td>\n",
              "      <td>0.000000</td>\n",
              "      <td>0.000000</td>\n",
              "      <td>0.000000</td>\n",
              "      <td>0.000000</td>\n",
              "      <td>1.000000</td>\n",
              "    </tr>\n",
              "    <tr>\n",
              "      <th>max</th>\n",
              "      <td>1.000000</td>\n",
              "      <td>1.000000</td>\n",
              "      <td>1.000000</td>\n",
              "      <td>1.000000</td>\n",
              "      <td>1.000000</td>\n",
              "      <td>1.000000</td>\n",
              "      <td>1.000000</td>\n",
              "      <td>1.000000</td>\n",
              "      <td>1.000000</td>\n",
              "      <td>1.000000</td>\n",
              "      <td>1.000000</td>\n",
              "      <td>1.000000</td>\n",
              "      <td>1.000000</td>\n",
              "      <td>1.000000</td>\n",
              "      <td>1.000000</td>\n",
              "      <td>1.000000</td>\n",
              "      <td>1.000000</td>\n",
              "      <td>1.000000</td>\n",
              "      <td>1.000000</td>\n",
              "      <td>1.000000</td>\n",
              "      <td>1.000000</td>\n",
              "      <td>1.000000</td>\n",
              "      <td>1.000000</td>\n",
              "      <td>1.000000</td>\n",
              "      <td>1.000000</td>\n",
              "      <td>1.000000</td>\n",
              "      <td>1.000000</td>\n",
              "      <td>1.000000</td>\n",
              "      <td>1.000000</td>\n",
              "      <td>1.000000</td>\n",
              "      <td>1.000000</td>\n",
              "      <td>1.000000</td>\n",
              "      <td>1.000000</td>\n",
              "      <td>1.000000</td>\n",
              "      <td>1.000000</td>\n",
              "      <td>1.000000</td>\n",
              "      <td>1.000000</td>\n",
              "      <td>1.000000</td>\n",
              "      <td>1.000000</td>\n",
              "      <td>1.000000</td>\n",
              "      <td>...</td>\n",
              "      <td>1.000000</td>\n",
              "      <td>1.000000</td>\n",
              "      <td>1.000000</td>\n",
              "      <td>1.000000</td>\n",
              "      <td>NaN</td>\n",
              "      <td>1.000000</td>\n",
              "      <td>1.000000</td>\n",
              "      <td>NaN</td>\n",
              "      <td>1.000000</td>\n",
              "      <td>1.000000</td>\n",
              "      <td>1.000000</td>\n",
              "      <td>1.000000</td>\n",
              "      <td>1.000000</td>\n",
              "      <td>1.000000</td>\n",
              "      <td>1.000000</td>\n",
              "      <td>1.000000</td>\n",
              "      <td>1.000000</td>\n",
              "      <td>1.000000</td>\n",
              "      <td>1.000000</td>\n",
              "      <td>1.000000</td>\n",
              "      <td>1.000000</td>\n",
              "      <td>1.000000</td>\n",
              "      <td>1.000000</td>\n",
              "      <td>NaN</td>\n",
              "      <td>1.000000</td>\n",
              "      <td>1.000000</td>\n",
              "      <td>1.000000</td>\n",
              "      <td>1.000000</td>\n",
              "      <td>1.000000</td>\n",
              "      <td>1.000000</td>\n",
              "      <td>1.000000</td>\n",
              "      <td>1.000000</td>\n",
              "      <td>1.000000</td>\n",
              "      <td>1.000000</td>\n",
              "      <td>1.000000</td>\n",
              "      <td>1.000000</td>\n",
              "      <td>1.000000</td>\n",
              "      <td>1.000000</td>\n",
              "      <td>1.000000</td>\n",
              "      <td>1.000000</td>\n",
              "    </tr>\n",
              "  </tbody>\n",
              "</table>\n",
              "<p>8 rows × 215 columns</p>\n",
              "</div>\n",
              "      <button class=\"colab-df-convert\" onclick=\"convertToInteractive('df-12ddb73d-1e35-42b1-968a-c91b187e8859')\"\n",
              "              title=\"Convert this dataframe to an interactive table.\"\n",
              "              style=\"display:none;\">\n",
              "        \n",
              "  <svg xmlns=\"http://www.w3.org/2000/svg\" height=\"24px\"viewBox=\"0 0 24 24\"\n",
              "       width=\"24px\">\n",
              "    <path d=\"M0 0h24v24H0V0z\" fill=\"none\"/>\n",
              "    <path d=\"M18.56 5.44l.94 2.06.94-2.06 2.06-.94-2.06-.94-.94-2.06-.94 2.06-2.06.94zm-11 1L8.5 8.5l.94-2.06 2.06-.94-2.06-.94L8.5 2.5l-.94 2.06-2.06.94zm10 10l.94 2.06.94-2.06 2.06-.94-2.06-.94-.94-2.06-.94 2.06-2.06.94z\"/><path d=\"M17.41 7.96l-1.37-1.37c-.4-.4-.92-.59-1.43-.59-.52 0-1.04.2-1.43.59L10.3 9.45l-7.72 7.72c-.78.78-.78 2.05 0 2.83L4 21.41c.39.39.9.59 1.41.59.51 0 1.02-.2 1.41-.59l7.78-7.78 2.81-2.81c.8-.78.8-2.07 0-2.86zM5.41 20L4 18.59l7.72-7.72 1.47 1.35L5.41 20z\"/>\n",
              "  </svg>\n",
              "      </button>\n",
              "      \n",
              "  <style>\n",
              "    .colab-df-container {\n",
              "      display:flex;\n",
              "      flex-wrap:wrap;\n",
              "      gap: 12px;\n",
              "    }\n",
              "\n",
              "    .colab-df-convert {\n",
              "      background-color: #E8F0FE;\n",
              "      border: none;\n",
              "      border-radius: 50%;\n",
              "      cursor: pointer;\n",
              "      display: none;\n",
              "      fill: #1967D2;\n",
              "      height: 32px;\n",
              "      padding: 0 0 0 0;\n",
              "      width: 32px;\n",
              "    }\n",
              "\n",
              "    .colab-df-convert:hover {\n",
              "      background-color: #E2EBFA;\n",
              "      box-shadow: 0px 1px 2px rgba(60, 64, 67, 0.3), 0px 1px 3px 1px rgba(60, 64, 67, 0.15);\n",
              "      fill: #174EA6;\n",
              "    }\n",
              "\n",
              "    [theme=dark] .colab-df-convert {\n",
              "      background-color: #3B4455;\n",
              "      fill: #D2E3FC;\n",
              "    }\n",
              "\n",
              "    [theme=dark] .colab-df-convert:hover {\n",
              "      background-color: #434B5C;\n",
              "      box-shadow: 0px 1px 3px 1px rgba(0, 0, 0, 0.15);\n",
              "      filter: drop-shadow(0px 1px 2px rgba(0, 0, 0, 0.3));\n",
              "      fill: #FFFFFF;\n",
              "    }\n",
              "  </style>\n",
              "\n",
              "      <script>\n",
              "        const buttonEl =\n",
              "          document.querySelector('#df-12ddb73d-1e35-42b1-968a-c91b187e8859 button.colab-df-convert');\n",
              "        buttonEl.style.display =\n",
              "          google.colab.kernel.accessAllowed ? 'block' : 'none';\n",
              "\n",
              "        async function convertToInteractive(key) {\n",
              "          const element = document.querySelector('#df-12ddb73d-1e35-42b1-968a-c91b187e8859');\n",
              "          const dataTable =\n",
              "            await google.colab.kernel.invokeFunction('convertToInteractive',\n",
              "                                                     [key], {});\n",
              "          if (!dataTable) return;\n",
              "\n",
              "          const docLinkHtml = 'Like what you see? Visit the ' +\n",
              "            '<a target=\"_blank\" href=https://colab.research.google.com/notebooks/data_table.ipynb>data table notebook</a>'\n",
              "            + ' to learn more about interactive tables.';\n",
              "          element.innerHTML = '';\n",
              "          dataTable['output_type'] = 'display_data';\n",
              "          await google.colab.output.renderOutput(dataTable, element);\n",
              "          const docLink = document.createElement('div');\n",
              "          docLink.innerHTML = docLinkHtml;\n",
              "          element.appendChild(docLink);\n",
              "        }\n",
              "      </script>\n",
              "    </div>\n",
              "  </div>\n",
              "  "
            ],
            "text/plain": [
              "              Year  Life expectancy  ...  Status_Developed  Status_Developing\n",
              "count  2888.000000      2888.000000  ...       2888.000000        2888.000000\n",
              "mean      0.501016         0.627123  ...          0.177285           0.822715\n",
              "std       0.307129         0.180179  ...          0.381976           0.381976\n",
              "min       0.000000         0.000000  ...          0.000000           0.000000\n",
              "25%       0.266667         0.515655  ...          0.000000           1.000000\n",
              "50%       0.533333         0.681214  ...          0.000000           1.000000\n",
              "75%       0.800000         0.749526  ...          0.000000           1.000000\n",
              "max       1.000000         1.000000  ...          1.000000           1.000000\n",
              "\n",
              "[8 rows x 215 columns]"
            ]
          },
          "metadata": {},
          "execution_count": 10
        }
      ]
    },
    {
      "cell_type": "code",
      "source": [
        "data_norm[\"Country_South Sudan\"].fillna(data_raw[\"Country_South Sudan\"].median(axis = 0), axis=0 , inplace=True)\n",
        "data_norm[\"Country_Sudan\"].fillna(data_raw[\"Country_Sudan\"].median(axis = 0), axis=0 , inplace=True)\n",
        "data_norm[\"Country_Tuvalu\"].fillna(data_raw[\"Country_Tuvalu\"].median(axis = 0), axis=0 , inplace=True)\n",
        "data_norm[\"Country_Cook Islands\"].fillna(data_raw[\"Country_Cook Islands\"].median(axis = 0), axis=0 , inplace=True)\n",
        "data_norm[\"Country_Dominica\"].fillna(data_raw[\"Country_Dominica\"].median(axis = 0), axis=0 , inplace=True)\n",
        "data_norm[\"Country_Marshall Islands\"].fillna(data_raw[\"Country_Marshall Islands\"].median(axis = 0), axis=0 , inplace=True)\n",
        "data_norm[\"Country_Monaco\"].fillna(data_raw[\"Country_Monaco\"].median(axis = 0), axis=0 , inplace=True)\n",
        "data_norm[\"Country_Nauru\"].fillna(data_raw[\"Country_Nauru\"].median(axis = 0), axis=0 , inplace=True)\n",
        "data_norm[\"Country_Niue\"].fillna(data_raw[\"Country_Niue\"].median(axis = 0), axis=0 , inplace=True)\n",
        "data_norm[\"Country_Palau\"].fillna(data_raw[\"Country_Palau\"].median(axis = 0), axis=0 , inplace=True)\n",
        "data_norm[\"Country_Saint Kitts and Nevis\"].fillna(data_raw[\"Country_Saint Kitts and Nevis\"].median(axis = 0), axis=0 , inplace=True)\n",
        "data_norm[\"Country_San Marino\"].fillna(data_raw[\"Country_San Marino\"].median(axis = 0), axis=0 , inplace=True)\n",
        "data_norm.isna().sum()"
      ],
      "metadata": {
        "colab": {
          "base_uri": "https://localhost:8080/"
        },
        "id": "Ou2F0a--80mh",
        "outputId": "b834c7b0-d53c-4d1d-a7a7-e068da23314c"
      },
      "execution_count": 11,
      "outputs": [
        {
          "output_type": "execute_result",
          "data": {
            "text/plain": [
              "Year                 0\n",
              "Life expectancy      0\n",
              "Adult Mortality      0\n",
              "infant deaths        0\n",
              "Alcohol              0\n",
              "                    ..\n",
              "Country_Yemen        0\n",
              "Country_Zambia       0\n",
              "Country_Zimbabwe     0\n",
              "Status_Developed     0\n",
              "Status_Developing    0\n",
              "Length: 215, dtype: int64"
            ]
          },
          "metadata": {},
          "execution_count": 11
        }
      ]
    },
    {
      "cell_type": "markdown",
      "source": [
        "# **Обучающая и тестовая выборки**"
      ],
      "metadata": {
        "id": "k0sLe2dZ8-uY"
      }
    },
    {
      "cell_type": "markdown",
      "source": [
        "Разобьем наши данные на обучающую и тестовую выборки, которые составляют 75% и 25% соответсвенно"
      ],
      "metadata": {
        "id": "vzQ1A6KNJkPv"
      }
    },
    {
      "cell_type": "code",
      "source": [
        "X = data_norm.drop(['Schooling'], axis=1)\n",
        "y = data_raw['Schooling']\n",
        "\n",
        "from sklearn.model_selection import train_test_split\n",
        "X_train, X_test, y_train, y_test = train_test_split(X, y, test_size=0.25, random_state=13)\n",
        "N_test, _ = X_test.shape"
      ],
      "metadata": {
        "id": "BtYFqzEQ9AuD"
      },
      "execution_count": 12,
      "outputs": []
    },
    {
      "cell_type": "markdown",
      "source": [
        "**Обучение классификатора**"
      ],
      "metadata": {
        "id": "xgMeB8KZ9T51"
      }
    },
    {
      "cell_type": "markdown",
      "source": [
        "В качестве алгоритма оптимизации выберем алгоритм Adam, в качестве функции активации - Relu, а в качетве метрики оценки классификатора возьмем accuracy_score."
      ],
      "metadata": {
        "id": "5sQk-DCJ9Vcy"
      }
    },
    {
      "cell_type": "code",
      "source": [
        "from sklearn.neural_network import MLPClassifier\n",
        "from sklearn.metrics import accuracy_score\n",
        "from tqdm import tqdm"
      ],
      "metadata": {
        "id": "OlJoIUgB9VwC"
      },
      "execution_count": 13,
      "outputs": []
    },
    {
      "cell_type": "code",
      "source": [
        "model = MLPClassifier(\n",
        "    hidden_layer_sizes=(50,),\n",
        "    solver='adam',\n",
        "    activation='relu',\n",
        "    random_state=3,\n",
        "    max_iter=1000\n",
        ")"
      ],
      "metadata": {
        "id": "mAjHCnMy9cxy"
      },
      "execution_count": 14,
      "outputs": []
    },
    {
      "cell_type": "code",
      "source": [
        "%%time\n",
        "model.fit(X_train, y_train.astype('int64'))\n"
      ],
      "metadata": {
        "colab": {
          "base_uri": "https://localhost:8080/"
        },
        "id": "r8eW4C0fD4IS",
        "outputId": "3c762e37-bd79-4962-c1b6-488bb7ab3553"
      },
      "execution_count": 15,
      "outputs": [
        {
          "output_type": "stream",
          "name": "stdout",
          "text": [
            "CPU times: user 37.5 s, sys: 23.8 s, total: 1min 1s\n",
            "Wall time: 31.5 s\n"
          ]
        },
        {
          "output_type": "stream",
          "name": "stderr",
          "text": [
            "/usr/local/lib/python3.7/dist-packages/sklearn/neural_network/_multilayer_perceptron.py:696: ConvergenceWarning: Stochastic Optimizer: Maximum iterations (1000) reached and the optimization hasn't converged yet.\n",
            "  ConvergenceWarning,\n"
          ]
        },
        {
          "output_type": "execute_result",
          "data": {
            "text/plain": [
              "MLPClassifier(hidden_layer_sizes=(50,), max_iter=1000, random_state=3)"
            ]
          },
          "metadata": {},
          "execution_count": 15
        }
      ]
    },
    {
      "cell_type": "markdown",
      "source": [
        "Проверим качество классификатора и точность на обучающей и тестовой выборках"
      ],
      "metadata": {
        "id": "DWvJIB0tGqhT"
      }
    },
    {
      "cell_type": "code",
      "source": [
        "y_train_prediction = model.predict(X_train)\n",
        "y_test_prediction = model.predict(X_test)"
      ],
      "metadata": {
        "id": "V659lj7zGBGI"
      },
      "execution_count": 16,
      "outputs": []
    },
    {
      "cell_type": "code",
      "source": [
        "print(\"Train: {:.2f}% Test: {:.2f}%\".format(accuracy_score(y_train.astype('int64'), y_train_prediction)\n",
        "      * 100, accuracy_score(y_test.astype('int64'), y_test_prediction) * 100))"
      ],
      "metadata": {
        "colab": {
          "base_uri": "https://localhost:8080/"
        },
        "id": "PZot9lomGbed",
        "outputId": "c4932c12-6dda-4a55-cea4-f15334f47f24"
      },
      "execution_count": 29,
      "outputs": [
        {
          "output_type": "stream",
          "name": "stdout",
          "text": [
            "Train: 87.86% Test: 70.36%\n"
          ]
        }
      ]
    },
    {
      "cell_type": "markdown",
      "source": [
        "Из последнего вывода можно наблюдать переобучение, так как точность на тренировочной выборке сильно больше, чем на тестовой"
      ],
      "metadata": {
        "id": "svnnjf02Keqr"
      }
    },
    {
      "cell_type": "markdown",
      "source": [
        "**Подбор гиперпараметров**"
      ],
      "metadata": {
        "id": "4pe4IdS4Nvd9"
      }
    },
    {
      "cell_type": "markdown",
      "source": [
        "Подберем оптимальное значение параметра alpha"
      ],
      "metadata": {
        "id": "EhbceoQNN8ic"
      }
    },
    {
      "cell_type": "code",
      "source": [
        "alpha_arr = np.logspace(-3, 2, 21)\n",
        "test_err = []\n",
        "train_err = []\n",
        "train_acc = []\n",
        "test_acc = []\n",
        "\n",
        "for alpha in alpha_arr:\n",
        "    mlp_model = MLPClassifier(alpha = alpha, hidden_layer_sizes = (100,), \n",
        "                              solver = 'adam', activation = 'relu', max_iter=1000, random_state = 42)\n",
        "    mlp_model.fit(X_train, y_train.astype('int64'))\n",
        "\n",
        "    y_train_prediction = mlp_model.predict(X_train)\n",
        "    y_test_prediction = mlp_model.predict(X_test)\n",
        "    \n",
        "    train_err.append(np.mean(y_train.astype('int64') != y_train_prediction))\n",
        "    test_err.append(np.mean(y_test.astype('int64') != y_test_prediction))\n",
        "    train_acc.append(sklearn.metrics.accuracy_score(y_train.astype('int64'), y_train_prediction))\n",
        "    test_acc.append(sklearn.metrics.accuracy_score(y_test.astype('int64'), y_test_prediction))"
      ],
      "metadata": {
        "id": "ZN4tdYgbLTeX"
      },
      "execution_count": 19,
      "outputs": []
    },
    {
      "cell_type": "code",
      "source": [
        "plt.semilogx(alpha_arr, train_err, 'b-o', label = 'train')\n",
        "plt.semilogx(alpha_arr, test_err, 'r-o', label = 'test')\n",
        "plt.xlim([np.min(alpha_arr), np.max(alpha_arr)])\n",
        "plt.title('Error vs. alpha')\n",
        "plt.xlabel('alpha')\n",
        "plt.ylabel('error')\n",
        "plt.legend()"
      ],
      "metadata": {
        "colab": {
          "base_uri": "https://localhost:8080/",
          "height": 316
        },
        "id": "l_E8ECCntsVD",
        "outputId": "e709ad73-2a0f-4b81-fa07-1f47d0f5ef2e"
      },
      "execution_count": 20,
      "outputs": [
        {
          "output_type": "execute_result",
          "data": {
            "text/plain": [
              "<matplotlib.legend.Legend at 0x7f70aac62b10>"
            ]
          },
          "metadata": {},
          "execution_count": 20
        },
        {
          "output_type": "display_data",
          "data": {
            "image/png": "[encoded data removed]",
            "text/plain": [
              "<Figure size 432x288 with 1 Axes>"
            ]
          },
          "metadata": {
            "needs_background": "light"
          }
        }
      ]
    },
    {
      "cell_type": "code",
      "source": [
        "plt.semilogx(alpha_arr, train_acc, 'r-o', label = 'train')\n",
        "plt.semilogx(alpha_arr, test_acc, 'b-o', label = 'test')\n",
        "plt.xlim([np.min(alpha_arr), np.max(alpha_arr)])\n",
        "plt.title('Accuracy vs. alpha')\n",
        "plt.xlabel('alpha')\n",
        "plt.ylabel('Accuracy')\n",
        "plt.legend()"
      ],
      "metadata": {
        "colab": {
          "base_uri": "https://localhost:8080/",
          "height": 316
        },
        "id": "Nrd63wm8txLG",
        "outputId": "9093af6c-4550-4620-f56b-95503d919fdc"
      },
      "execution_count": 21,
      "outputs": [
        {
          "output_type": "execute_result",
          "data": {
            "text/plain": [
              "<matplotlib.legend.Legend at 0x7f709fc46b50>"
            ]
          },
          "metadata": {},
          "execution_count": 21
        },
        {
          "output_type": "display_data",
          "data": {
            "image/png": "[encoded data removed]",
            "text/plain": [
              "<Figure size 432x288 with 1 Axes>"
            ]
          },
          "metadata": {
            "needs_background": "light"
          }
        }
      ]
    },
    {
      "cell_type": "markdown",
      "source": [
        "Из графика выше видим, что при значениях alpha < 1 наблюдается переобучение. Начиная с alpha_opt точность и на тествой и на обучающей выборке совпадает, то есть получаем оптимальное значения для параметра alpha. При дальнейшем увеличении alpha точность уменьшается, а значит наблюдаем недообучение."
      ],
      "metadata": {
        "id": "RXzBXbY1OGcs"
      }
    },
    {
      "cell_type": "markdown",
      "source": [
        "Выявим минимальное значение ошибки"
      ],
      "metadata": {
        "id": "rA0wc2HZOb9p"
      }
    },
    {
      "cell_type": "code",
      "source": [
        "min_train_err = np.min(train_err)\n",
        "min_test_err = np.min(test_err)\n",
        "print(min_train_err, min_test_err)"
      ],
      "metadata": {
        "colab": {
          "base_uri": "https://localhost:8080/"
        },
        "id": "-QQVKgoGuASx",
        "outputId": "a11f865e-ecec-4e0a-fefe-9e54550b33ab"
      },
      "execution_count": 22,
      "outputs": [
        {
          "output_type": "stream",
          "name": "stdout",
          "text": [
            "0.014773776546629732 0.2257617728531856\n"
          ]
        }
      ]
    },
    {
      "cell_type": "markdown",
      "source": [
        "Оптимальное значение альфа"
      ],
      "metadata": {
        "id": "EvpQiDpzOsv7"
      }
    },
    {
      "cell_type": "code",
      "source": [
        "alpha_optarr = alpha_arr[test_err == min_test_err]\n",
        "alpha_opt = alpha_optarr[0]\n",
        "print(alpha_opt)"
      ],
      "metadata": {
        "colab": {
          "base_uri": "https://localhost:8080/"
        },
        "id": "s9rPoDWRO6f6",
        "outputId": "15bfc859-b0bf-4be6-946b-cd2c68254534"
      },
      "execution_count": 24,
      "outputs": [
        {
          "output_type": "stream",
          "name": "stdout",
          "text": [
            "0.01\n"
          ]
        }
      ]
    },
    {
      "cell_type": "markdown",
      "source": [
        "Классификатор с учетом оптимального значения альфа:"
      ],
      "metadata": {
        "id": "N0Ehlgf1PE7T"
      }
    },
    {
      "cell_type": "code",
      "source": [
        "from sklearn.metrics import confusion_matrix, ConfusionMatrixDisplay"
      ],
      "metadata": {
        "id": "_ArX9XFWu32Z"
      },
      "execution_count": 25,
      "outputs": []
    },
    {
      "cell_type": "code",
      "source": [
        "mlp_model = MLPClassifier(alpha=alpha_opt, hidden_layer_sizes=(80,),\n",
        "                          solver='adam', activation='relu', random_state=7)\n",
        "mlp_model.fit(X_train, y_train.astype('int64'))\n",
        "\n",
        "y_train_prediction = mlp_model.predict(X_train)\n",
        "y_test_prediction = mlp_model.predict(X_test)"
      ],
      "metadata": {
        "colab": {
          "base_uri": "https://localhost:8080/"
        },
        "id": "SiMV-QBguSwm",
        "outputId": "c752f204-e000-46e6-b528-c7f7194dd294"
      },
      "execution_count": 26,
      "outputs": [
        {
          "output_type": "stream",
          "name": "stderr",
          "text": [
            "/usr/local/lib/python3.7/dist-packages/sklearn/neural_network/_multilayer_perceptron.py:696: ConvergenceWarning: Stochastic Optimizer: Maximum iterations (200) reached and the optimization hasn't converged yet.\n",
            "  ConvergenceWarning,\n"
          ]
        }
      ]
    },
    {
      "cell_type": "code",
      "source": [
        "print(\"Train: {:.2f}% Test: {:.2f}%\".format(accuracy_score(y_train.astype('int64'), y_train_prediction)\n",
        "      * 100, accuracy_score(y_test.astype('int64'), y_test_prediction) * 100))"
      ],
      "metadata": {
        "colab": {
          "base_uri": "https://localhost:8080/"
        },
        "id": "xP3tlF3Mvlxb",
        "outputId": "d53ac6d9-b261-40a4-85e2-6875f12f8f7a"
      },
      "execution_count": 27,
      "outputs": [
        {
          "output_type": "stream",
          "name": "stdout",
          "text": [
            "Train: 87.86% Test: 70.36%\n"
          ]
        }
      ]
    },
    {
      "cell_type": "markdown",
      "source": [
        "Точность на обучающей и тестовой выборке стала несколько лучше, но все равно разница существенна"
      ],
      "metadata": {
        "id": "kxtMy2W7PVTj"
      }
    },
    {
      "cell_type": "markdown",
      "source": [
        "Метрика качества"
      ],
      "metadata": {
        "id": "iJYu9FmKPo8l"
      }
    },
    {
      "cell_type": "code",
      "source": [
        "from sklearn.metrics import classification_report\n",
        "print(classification_report(y_test.astype('int64'), y_test_prediction))"
      ],
      "metadata": {
        "colab": {
          "base_uri": "https://localhost:8080/"
        },
        "id": "EjQo6mwHw7Ix",
        "outputId": "b936f3ed-b7d5-48e6-818e-c749bada2e38"
      },
      "execution_count": 28,
      "outputs": [
        {
          "output_type": "stream",
          "name": "stdout",
          "text": [
            "              precision    recall  f1-score   support\n",
            "\n",
            "           0       0.50      0.50      0.50         2\n",
            "           2       1.00      1.00      1.00         1\n",
            "           3       0.67      0.50      0.57         8\n",
            "           4       0.14      0.17      0.15         6\n",
            "           5       0.64      0.53      0.58        17\n",
            "           6       0.54      0.44      0.48        16\n",
            "           7       0.52      0.48      0.50        23\n",
            "           8       0.66      0.85      0.74        39\n",
            "           9       0.72      0.70      0.71        44\n",
            "          10       0.77      0.74      0.76        69\n",
            "          11       0.77      0.64      0.70        75\n",
            "          12       0.78      0.88      0.83       143\n",
            "          13       0.69      0.66      0.68        76\n",
            "          14       0.68      0.62      0.65        68\n",
            "          15       0.70      0.72      0.71        68\n",
            "          16       0.69      0.77      0.73        35\n",
            "          17       0.50      0.47      0.48        17\n",
            "          18       0.54      0.88      0.67         8\n",
            "          19       0.67      0.33      0.44         6\n",
            "          20       0.00      0.00      0.00         1\n",
            "\n",
            "    accuracy                           0.70       722\n",
            "   macro avg       0.61      0.59      0.59       722\n",
            "weighted avg       0.70      0.70      0.70       722\n",
            "\n"
          ]
        }
      ]
    },
    {
      "cell_type": "markdown",
      "source": [
        "**Подбор количества нейронов**"
      ],
      "metadata": {
        "id": "pH1QeIn7P-HX"
      }
    },
    {
      "cell_type": "code",
      "source": [
        "neuron_count_array = np.linspace(10, 300, 30).astype(int)\n",
        "test_error = []\n",
        "train_error = []\n",
        "test_acc = []\n",
        "train_acc = []\n",
        "\n",
        "for neuron_count in neuron_count_array:\n",
        "    model = MLPClassifier(\n",
        "        alpha=alpha_opt,\n",
        "        hidden_layer_sizes=(neuron_count,),\n",
        "        solver='adam',\n",
        "        activation='relu',\n",
        "        max_iter=1000,\n",
        "        random_state=7\n",
        "    )\n",
        "    model.fit(X_train, y_train.astype('int64'))\n",
        "\n",
        "    y_train_prediction = model.predict(X_train)\n",
        "    y_test_prediction = model.predict(X_test)\n",
        "\n",
        "    test_error.append(np.mean(y_test.astype('int64') != y_test_prediction))\n",
        "    train_error.append(np.mean(y_train.astype('int64') != y_train_prediction))\n",
        "    test_acc.append(accuracy_score(y_test.astype('int64'), y_test_prediction))\n",
        "    train_acc.append(accuracy_score(y_train.astype('int64'), y_train_prediction))"
      ],
      "metadata": {
        "colab": {
          "base_uri": "https://localhost:8080/"
        },
        "id": "5AlyWBL6xRtn",
        "outputId": "4d5cdb08-d2f7-4daf-dbb5-6f66d0da0fcf"
      },
      "execution_count": 30,
      "outputs": [
        {
          "output_type": "stream",
          "name": "stderr",
          "text": [
            "/usr/local/lib/python3.7/dist-packages/sklearn/neural_network/_multilayer_perceptron.py:696: ConvergenceWarning: Stochastic Optimizer: Maximum iterations (1000) reached and the optimization hasn't converged yet.\n",
            "  ConvergenceWarning,\n",
            "/usr/local/lib/python3.7/dist-packages/sklearn/neural_network/_multilayer_perceptron.py:696: ConvergenceWarning: Stochastic Optimizer: Maximum iterations (1000) reached and the optimization hasn't converged yet.\n",
            "  ConvergenceWarning,\n",
            "/usr/local/lib/python3.7/dist-packages/sklearn/neural_network/_multilayer_perceptron.py:696: ConvergenceWarning: Stochastic Optimizer: Maximum iterations (1000) reached and the optimization hasn't converged yet.\n",
            "  ConvergenceWarning,\n"
          ]
        }
      ]
    },
    {
      "cell_type": "code",
      "source": [
        "plt.plot(neuron_count_array, train_error, 'r-o', label='train')\n",
        "plt.plot(neuron_count_array, test_error, 'b-o', label='test')\n",
        "plt.xlim([np.min(neuron_count_array), np.max(neuron_count_array)])\n",
        "plt.xlabel('neuron count')\n",
        "plt.ylabel('error')\n",
        "plt.legend()"
      ],
      "metadata": {
        "colab": {
          "base_uri": "https://localhost:8080/",
          "height": 296
        },
        "id": "ruVvxj5H6zdo",
        "outputId": "763339bb-932f-4eb1-d557-81fc53f4261b"
      },
      "execution_count": 31,
      "outputs": [
        {
          "output_type": "execute_result",
          "data": {
            "text/plain": [
              "<matplotlib.legend.Legend at 0x7f709fb219d0>"
            ]
          },
          "metadata": {},
          "execution_count": 31
        },
        {
          "output_type": "display_data",
          "data": {
            "image/png": "[encoded data removed]",
            "text/plain": [
              "<Figure size 432x288 with 1 Axes>"
            ]
          },
          "metadata": {
            "needs_background": "light"
          }
        }
      ]
    },
    {
      "cell_type": "code",
      "source": [
        "plt.plot(neuron_count_array, train_acc, 'r-o', label='train')\n",
        "plt.plot(neuron_count_array, test_acc, 'b-o', label='test')\n",
        "plt.xlim([np.min(neuron_count_array), np.max(neuron_count_array)])\n",
        "plt.title('Accuracy vs. neuron count')\n",
        "plt.xlabel('neuron count')\n",
        "plt.ylabel('Accuracy')\n",
        "plt.legend()"
      ],
      "metadata": {
        "colab": {
          "base_uri": "https://localhost:8080/",
          "height": 312
        },
        "id": "KUvFZkmB68ha",
        "outputId": "b6207c91-6ef3-4e3c-9eef-60d63c2c203d"
      },
      "execution_count": 32,
      "outputs": [
        {
          "output_type": "execute_result",
          "data": {
            "text/plain": [
              "<matplotlib.legend.Legend at 0x7f709fb0d8d0>"
            ]
          },
          "metadata": {},
          "execution_count": 32
        },
        {
          "output_type": "display_data",
          "data": {
            "image/png": "[encoded data removed]",
            "text/plain": [
              "<Figure size 432x288 with 1 Axes>"
            ]
          },
          "metadata": {
            "needs_background": "light"
          }
        }
      ]
    },
    {
      "cell_type": "code",
      "source": [
        "min_test_error = np.min(test_error)\n",
        "neuron_opt = neuron_count_array[test_error == min_test_error][0]\n",
        "print('Optimal number of neurons: {}'.format(neuron_opt))"
      ],
      "metadata": {
        "colab": {
          "base_uri": "https://localhost:8080/"
        },
        "id": "aD4oiCNL7DGQ",
        "outputId": "f441113a-29e5-4965-ac63-49a8344cf02c"
      },
      "execution_count": 33,
      "outputs": [
        {
          "output_type": "stream",
          "name": "stdout",
          "text": [
            "Optimal number of neurons: 120\n"
          ]
        }
      ]
    },
    {
      "cell_type": "markdown",
      "source": [
        "Мы выделили некое оптимальное значение нейронов, при котором была лучшая точность на тестовой выборке."
      ],
      "metadata": {
        "id": "rEUwmxbZU1Xn"
      }
    },
    {
      "cell_type": "code",
      "source": [
        "mlp_model = MLPClassifier(alpha=alpha_opt, hidden_layer_sizes=(neuron_opt,),\n",
        "                          solver='adam', activation='relu', max_iter=140, random_state=90)\n",
        "mlp_model.fit(X_train, y_train.astype('int64'))\n",
        "\n",
        "y_train_prediction = mlp_model.predict(X_train)\n",
        "y_test_prediction = mlp_model.predict(X_test)"
      ],
      "metadata": {
        "colab": {
          "base_uri": "https://localhost:8080/"
        },
        "id": "e4c5deQ07KZc",
        "outputId": "455d2646-231c-4fc2-ea3c-5b8f1f0be353"
      },
      "execution_count": 46,
      "outputs": [
        {
          "output_type": "stream",
          "name": "stderr",
          "text": [
            "/usr/local/lib/python3.7/dist-packages/sklearn/neural_network/_multilayer_perceptron.py:696: ConvergenceWarning: Stochastic Optimizer: Maximum iterations (140) reached and the optimization hasn't converged yet.\n",
            "  ConvergenceWarning,\n"
          ]
        }
      ]
    },
    {
      "cell_type": "code",
      "source": [
        "print(\"Train: {:.2f}% Test: {:.2f}%\".format(accuracy_score(y_train.astype('int64'), y_train_prediction)\n",
        "      * 100, accuracy_score(y_test.astype('int64'), y_test_prediction) * 100))"
      ],
      "metadata": {
        "colab": {
          "base_uri": "https://localhost:8080/"
        },
        "id": "LPpjRmqK7m2N",
        "outputId": "1f1839ea-70ed-4be4-b03e-fabf06459dc3"
      },
      "execution_count": 47,
      "outputs": [
        {
          "output_type": "stream",
          "name": "stdout",
          "text": [
            "Train: 89.52% Test: 71.47%\n"
          ]
        }
      ]
    },
    {
      "cell_type": "markdown",
      "source": [
        "Даже при заданных оптимальных значениях параметра у нас наблюдается переобучение"
      ],
      "metadata": {
        "id": "P8mMemDWW0Bd"
      }
    },
    {
      "cell_type": "markdown",
      "source": [
        "**Подбор параметра регуляризации и количества нейронов**"
      ],
      "metadata": {
        "id": "cMhcYRvMW6Po"
      }
    },
    {
      "cell_type": "code",
      "source": [
        "neuron_arr = np.linspace(10, 300, 5).astype(int)\n",
        "alpha_arr = np.logspace(-3, 2, 5)\n",
        "test_err = []\n",
        "train_err = []\n",
        "train_acc = []\n",
        "test_acc = []\n",
        "neuron_alpha_opt = []\n",
        "\n",
        "for neuron in neuron_arr:\n",
        "    for alpha in alpha_arr:\n",
        "        mlp_model = MLPClassifier(alpha=alpha, hidden_layer_sizes=(neuron,),\n",
        "                                  solver='adam', activation='relu', max_iter=1500, random_state=3)\n",
        "        mlp_model.fit(X_train, y_train.astype('int64'))\n",
        "\n",
        "        y_train_prediction = mlp_model.predict(X_train)\n",
        "        y_test_prediction = mlp_model.predict(X_test)\n",
        "\n",
        "        train_err.append(np.mean(y_train.astype('int64') != y_train_prediction))\n",
        "        test_err.append(np.mean(y_test.astype('int64') != y_test_prediction))\n",
        "        train_acc.append(accuracy_score(y_train.astype('int64'), y_train_prediction))\n",
        "        test_acc.append(accuracy_score(y_test.astype('int64'), y_test_prediction))\n",
        "        neuron_alpha_opt.append([neuron, alpha])"
      ],
      "metadata": {
        "colab": {
          "base_uri": "https://localhost:8080/"
        },
        "id": "N23fggTHBkAk",
        "outputId": "c5fc1ef8-793a-407f-d576-cb3d81d81894"
      },
      "execution_count": 48,
      "outputs": [
        {
          "output_type": "stream",
          "name": "stderr",
          "text": [
            "/usr/local/lib/python3.7/dist-packages/sklearn/neural_network/_multilayer_perceptron.py:696: ConvergenceWarning: Stochastic Optimizer: Maximum iterations (1500) reached and the optimization hasn't converged yet.\n",
            "  ConvergenceWarning,\n",
            "/usr/local/lib/python3.7/dist-packages/sklearn/neural_network/_multilayer_perceptron.py:696: ConvergenceWarning: Stochastic Optimizer: Maximum iterations (1500) reached and the optimization hasn't converged yet.\n",
            "  ConvergenceWarning,\n"
          ]
        }
      ]
    },
    {
      "cell_type": "code",
      "source": [
        "min_test_err = np.min(test_err)\n",
        "i, = np.where(test_err == min_test_err)\n",
        "neuron_opt, alpha_opt = neuron_alpha_opt[i[0]]\n",
        "print(\"Neuron count opt:\", neuron_opt)\n",
        "print(\"Alpha opt: \", alpha_opt)"
      ],
      "metadata": {
        "colab": {
          "base_uri": "https://localhost:8080/"
        },
        "id": "6eoex26lEwli",
        "outputId": "a21ce641-7e36-4ab3-9c19-3dc4e2c02f39"
      },
      "execution_count": 49,
      "outputs": [
        {
          "output_type": "stream",
          "name": "stdout",
          "text": [
            "Neuron count opt: 300\n",
            "Alpha opt:  0.001\n"
          ]
        }
      ]
    },
    {
      "cell_type": "markdown",
      "source": [
        "Классификатор с учетом оптимальных значений"
      ],
      "metadata": {
        "id": "1DVvbk_abCwX"
      }
    },
    {
      "cell_type": "code",
      "source": [
        "mlp_model = MLPClassifier(alpha=alpha_opt, hidden_layer_sizes=(neuron_opt,),\n",
        "                          solver='adam', activation='relu', max_iter=141, random_state=93)\n",
        "mlp_model.fit(X_train, y_train.astype('int'))\n",
        "\n",
        "y_train_prediction = mlp_model.predict(X_train)\n",
        "y_test_prediction = mlp_model.predict(X_test)"
      ],
      "metadata": {
        "colab": {
          "base_uri": "https://localhost:8080/"
        },
        "id": "X2nfOnwcE6YF",
        "outputId": "d0bfbc3c-0fae-4c0b-8ac3-cb8d3f7a8d63"
      },
      "execution_count": 50,
      "outputs": [
        {
          "output_type": "stream",
          "name": "stderr",
          "text": [
            "/usr/local/lib/python3.7/dist-packages/sklearn/neural_network/_multilayer_perceptron.py:696: ConvergenceWarning: Stochastic Optimizer: Maximum iterations (141) reached and the optimization hasn't converged yet.\n",
            "  ConvergenceWarning,\n"
          ]
        }
      ]
    },
    {
      "cell_type": "code",
      "source": [
        "print(\"Train: {:.2f}% Test: {:.2f}%\".format(accuracy_score(y_train.astype('int64'), y_train_prediction)\n",
        "      * 100, accuracy_score(y_test.astype('int'), y_test_prediction) * 100))"
      ],
      "metadata": {
        "colab": {
          "base_uri": "https://localhost:8080/"
        },
        "id": "1ApEtTo1FkGe",
        "outputId": "bbabafdc-1761-4749-ec2d-70cf927a36e4"
      },
      "execution_count": 53,
      "outputs": [
        {
          "output_type": "stream",
          "name": "stdout",
          "text": [
            "Train: 93.86% Test: 74.79%\n"
          ]
        }
      ]
    },
    {
      "cell_type": "markdown",
      "source": [
        "# **Вывод**"
      ],
      "metadata": {
        "id": "avWNE3i5bzBP"
      }
    },
    {
      "cell_type": "markdown",
      "source": [
        "В результате подбора различных параметров везде было обнаружено переобучение, что свидетельствует о том, что модель достаточно сложная.\n",
        "\n",
        "За счет подбора оптимальных значений полностью избавиться от переобучения не удалось, но получилось немного повысить точность на тестовой выборке. В результате подбора оптимального числа нейронов и при оптимальном значении регулярации результат был такой же. При одноверенном подборе обоих параметров от переобучения мы не избавились окончательно, но смогли повысить точность на обучающей и тестовой выборках."
      ],
      "metadata": {
        "id": "Z7HdFyxNb2N3"
      }
    }
  ]
}